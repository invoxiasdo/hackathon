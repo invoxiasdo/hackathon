{
 "cells": [
  {
   "cell_type": "markdown",
   "metadata": {},
   "source": [
    "# Imports"
   ]
  },
  {
   "cell_type": "code",
   "execution_count": 42,
   "metadata": {
    "ExecuteTime": {
     "end_time": "2020-04-10T09:41:54.848883Z",
     "start_time": "2020-04-10T09:41:54.844305Z"
    }
   },
   "outputs": [],
   "source": [
    "import pandas as pd\n",
    "import numpy as np"
   ]
  },
  {
   "cell_type": "markdown",
   "metadata": {
    "ExecuteTime": {
     "end_time": "2020-04-08T17:42:41.666040Z",
     "start_time": "2020-04-08T17:42:41.658308Z"
    }
   },
   "source": [
    "# Data imports"
   ]
  },
  {
   "cell_type": "code",
   "execution_count": 43,
   "metadata": {
    "ExecuteTime": {
     "end_time": "2020-04-10T09:42:02.616930Z",
     "start_time": "2020-04-10T09:41:54.851563Z"
    }
   },
   "outputs": [],
   "source": [
    "# Tracker list\n",
    "lwt1_dtf = pd.read_csv('lwt1.csv', sep=';')\n",
    "lwt2_dtf = pd.read_csv('lwt2.csv', sep=';')\n",
    "\n",
    "# Tracker data header\n",
    "cols = ['serial', 'date', 'latitude', 'longitude', 'accuracy', 'method', 'battery']\n",
    "\n",
    "# Tracker data\n",
    "data_lwt1_dtf = pd.read_csv('lwt1_data.csv', sep=';', names=cols, header=0)\n",
    "data_lwt1_dtf.date = pd.to_datetime(data_lwt1_dtf.date)\n",
    "data_lwt2_dtf = pd.read_csv('lwt2_data.csv', sep=';', names=cols, header=0)\n",
    "data_lwt2_dtf.date = pd.to_datetime(data_lwt2_dtf.date)"
   ]
  },
  {
   "cell_type": "markdown",
   "metadata": {},
   "source": [
    "# Data base analysis"
   ]
  },
  {
   "cell_type": "code",
   "execution_count": 44,
   "metadata": {
    "ExecuteTime": {
     "end_time": "2020-04-10T09:42:02.635561Z",
     "start_time": "2020-04-10T09:42:02.621125Z"
    }
   },
   "outputs": [],
   "source": [
    "# Display all columns\n",
    "pd.set_option(\"display.max.columns\", None)"
   ]
  },
  {
   "cell_type": "markdown",
   "metadata": {},
   "source": [
    "## LWT1 tracker data"
   ]
  },
  {
   "cell_type": "code",
   "execution_count": 45,
   "metadata": {
    "ExecuteTime": {
     "end_time": "2020-04-10T09:42:02.672096Z",
     "start_time": "2020-04-10T09:42:02.638384Z"
    }
   },
   "outputs": [
    {
     "data": {
      "text/html": [
       "<div>\n",
       "<style scoped>\n",
       "    .dataframe tbody tr th:only-of-type {\n",
       "        vertical-align: middle;\n",
       "    }\n",
       "\n",
       "    .dataframe tbody tr th {\n",
       "        vertical-align: top;\n",
       "    }\n",
       "\n",
       "    .dataframe thead th {\n",
       "        text-align: right;\n",
       "    }\n",
       "</style>\n",
       "<table border=\"1\" class=\"dataframe\">\n",
       "  <thead>\n",
       "    <tr style=\"text-align: right;\">\n",
       "      <th></th>\n",
       "      <th>serial</th>\n",
       "      <th>user</th>\n",
       "      <th>lang</th>\n",
       "      <th>version</th>\n",
       "      <th>timezone</th>\n",
       "      <th>country</th>\n",
       "      <th>created</th>\n",
       "      <th>last_seen</th>\n",
       "      <th>mode</th>\n",
       "      <th>usage</th>\n",
       "      <th>notify_position</th>\n",
       "      <th>notify_long_walk</th>\n",
       "      <th>breed</th>\n",
       "      <th>birthday</th>\n",
       "      <th>weight</th>\n",
       "      <th>trk_type</th>\n",
       "      <th>battery</th>\n",
       "      <th>temperature</th>\n",
       "      <th>network_operator</th>\n",
       "      <th>last_loc_latitude</th>\n",
       "      <th>last_loc_longitude</th>\n",
       "      <th>last_location_date</th>\n",
       "      <th>last_uplink_date</th>\n",
       "      <th>state</th>\n",
       "    </tr>\n",
       "  </thead>\n",
       "  <tbody>\n",
       "    <tr>\n",
       "      <th>0</th>\n",
       "      <td>e702e6908527756c89a6b2fe2d2b8829</td>\n",
       "      <td>2b1c683f5940ec003234930cd2b35513</td>\n",
       "      <td>fr</td>\n",
       "      <td>tracker_LWTv2-4.22.1-LoRa+Sigfox</td>\n",
       "      <td>Europe/Paris</td>\n",
       "      <td>FR</td>\n",
       "      <td>2017-10-27 12:44:01.829316+00:00</td>\n",
       "      <td>2020-04-08 14:52:10.377413+00:00</td>\n",
       "      <td>9</td>\n",
       "      <td>vehicle</td>\n",
       "      <td>True</td>\n",
       "      <td>False</td>\n",
       "      <td>NaN</td>\n",
       "      <td>None</td>\n",
       "      <td>0.0</td>\n",
       "      <td>Clio 4</td>\n",
       "      <td>69</td>\n",
       "      <td>16.0</td>\n",
       "      <td>objenious</td>\n",
       "      <td>48.764370</td>\n",
       "      <td>2.252336</td>\n",
       "      <td>2020-04-08 14:28:43.094000+00:00</td>\n",
       "      <td>2020-04-08 14:28:43.094000+00:00</td>\n",
       "      <td>online</td>\n",
       "    </tr>\n",
       "    <tr>\n",
       "      <th>1</th>\n",
       "      <td>24e7555414a66b14b296eb437541c203</td>\n",
       "      <td>b034a8e0340eb81020999353a0fa79cc</td>\n",
       "      <td>fr</td>\n",
       "      <td>tracker_LWTv2-4.22.1-LoRa+Sigfox</td>\n",
       "      <td>Europe/Paris</td>\n",
       "      <td>FR</td>\n",
       "      <td>2017-10-30 15:18:50.855699+00:00</td>\n",
       "      <td>2020-04-08 16:23:50.596237+00:00</td>\n",
       "      <td>10</td>\n",
       "      <td>NaN</td>\n",
       "      <td>True</td>\n",
       "      <td>False</td>\n",
       "      <td>NaN</td>\n",
       "      <td>None</td>\n",
       "      <td>0.0</td>\n",
       "      <td>NaN</td>\n",
       "      <td>83</td>\n",
       "      <td>21.0</td>\n",
       "      <td>objenious</td>\n",
       "      <td>48.842258</td>\n",
       "      <td>2.278239</td>\n",
       "      <td>2020-04-08 16:23:45.399000+00:00</td>\n",
       "      <td>2020-04-08 16:23:45.399000+00:00</td>\n",
       "      <td>online</td>\n",
       "    </tr>\n",
       "    <tr>\n",
       "      <th>2</th>\n",
       "      <td>4d6e03653015d31e073da0372abb5553</td>\n",
       "      <td>eedaf2a599577a46d95b59e8b4dbbb1a</td>\n",
       "      <td>fr</td>\n",
       "      <td>tracker_LWTv2-4.22.1-LoRa+Sigfox</td>\n",
       "      <td>Europe/Paris</td>\n",
       "      <td>FR</td>\n",
       "      <td>2017-11-09 15:17:31.299548+00:00</td>\n",
       "      <td>2020-04-08 14:58:35.687397+00:00</td>\n",
       "      <td>2</td>\n",
       "      <td>NaN</td>\n",
       "      <td>False</td>\n",
       "      <td>False</td>\n",
       "      <td>NaN</td>\n",
       "      <td>None</td>\n",
       "      <td>0.0</td>\n",
       "      <td>NaN</td>\n",
       "      <td>64</td>\n",
       "      <td>23.0</td>\n",
       "      <td>objenious</td>\n",
       "      <td>48.826716</td>\n",
       "      <td>2.286275</td>\n",
       "      <td>2020-04-08 14:58:29.058000+00:00</td>\n",
       "      <td>2020-04-08 14:58:29.058000+00:00</td>\n",
       "      <td>online</td>\n",
       "    </tr>\n",
       "    <tr>\n",
       "      <th>3</th>\n",
       "      <td>536b4cb36bed7923f32b155c1ff95b3d</td>\n",
       "      <td>2716dfa70759d78dc840115215848acd</td>\n",
       "      <td>fr</td>\n",
       "      <td>tracker_LWTv2-4.22.1-LoRa+Sigfox</td>\n",
       "      <td>Europe/Paris</td>\n",
       "      <td>FR</td>\n",
       "      <td>2017-11-10 16:48:11.953239+00:00</td>\n",
       "      <td>2020-04-08 14:53:57.799099+00:00</td>\n",
       "      <td>1</td>\n",
       "      <td>NaN</td>\n",
       "      <td>False</td>\n",
       "      <td>False</td>\n",
       "      <td>NaN</td>\n",
       "      <td>None</td>\n",
       "      <td>NaN</td>\n",
       "      <td>NaN</td>\n",
       "      <td>17</td>\n",
       "      <td>40.0</td>\n",
       "      <td>objenious</td>\n",
       "      <td>48.810440</td>\n",
       "      <td>2.249645</td>\n",
       "      <td>2020-04-08 14:49:31.162000+00:00</td>\n",
       "      <td>2020-04-08 14:49:31.162000+00:00</td>\n",
       "      <td>online</td>\n",
       "    </tr>\n",
       "    <tr>\n",
       "      <th>4</th>\n",
       "      <td>723452715969555db89357cb1bcb37af</td>\n",
       "      <td>8158c29b2635970e0d4c25176b0eddc6</td>\n",
       "      <td>fr</td>\n",
       "      <td>tracker_LWTv2-4.22.1-LoRa+Sigfox</td>\n",
       "      <td>Europe/Paris</td>\n",
       "      <td>FR</td>\n",
       "      <td>2017-11-13 17:05:07.409491+00:00</td>\n",
       "      <td>2020-04-08 15:32:45.692527+00:00</td>\n",
       "      <td>10</td>\n",
       "      <td>vehicle</td>\n",
       "      <td>True</td>\n",
       "      <td>False</td>\n",
       "      <td>NaN</td>\n",
       "      <td>None</td>\n",
       "      <td>NaN</td>\n",
       "      <td>NaN</td>\n",
       "      <td>97</td>\n",
       "      <td>13.0</td>\n",
       "      <td>objenious</td>\n",
       "      <td>48.799959</td>\n",
       "      <td>2.431709</td>\n",
       "      <td>2020-04-08 15:32:40.005000+00:00</td>\n",
       "      <td>2020-04-08 15:32:40.005000+00:00</td>\n",
       "      <td>online</td>\n",
       "    </tr>\n",
       "  </tbody>\n",
       "</table>\n",
       "</div>"
      ],
      "text/plain": [
       "                             serial                              user lang  \\\n",
       "0  e702e6908527756c89a6b2fe2d2b8829  2b1c683f5940ec003234930cd2b35513   fr   \n",
       "1  24e7555414a66b14b296eb437541c203  b034a8e0340eb81020999353a0fa79cc   fr   \n",
       "2  4d6e03653015d31e073da0372abb5553  eedaf2a599577a46d95b59e8b4dbbb1a   fr   \n",
       "3  536b4cb36bed7923f32b155c1ff95b3d  2716dfa70759d78dc840115215848acd   fr   \n",
       "4  723452715969555db89357cb1bcb37af  8158c29b2635970e0d4c25176b0eddc6   fr   \n",
       "\n",
       "                            version      timezone country  \\\n",
       "0  tracker_LWTv2-4.22.1-LoRa+Sigfox  Europe/Paris      FR   \n",
       "1  tracker_LWTv2-4.22.1-LoRa+Sigfox  Europe/Paris      FR   \n",
       "2  tracker_LWTv2-4.22.1-LoRa+Sigfox  Europe/Paris      FR   \n",
       "3  tracker_LWTv2-4.22.1-LoRa+Sigfox  Europe/Paris      FR   \n",
       "4  tracker_LWTv2-4.22.1-LoRa+Sigfox  Europe/Paris      FR   \n",
       "\n",
       "                            created                         last_seen mode  \\\n",
       "0  2017-10-27 12:44:01.829316+00:00  2020-04-08 14:52:10.377413+00:00    9   \n",
       "1  2017-10-30 15:18:50.855699+00:00  2020-04-08 16:23:50.596237+00:00   10   \n",
       "2  2017-11-09 15:17:31.299548+00:00  2020-04-08 14:58:35.687397+00:00    2   \n",
       "3  2017-11-10 16:48:11.953239+00:00  2020-04-08 14:53:57.799099+00:00    1   \n",
       "4  2017-11-13 17:05:07.409491+00:00  2020-04-08 15:32:45.692527+00:00   10   \n",
       "\n",
       "     usage  notify_position  notify_long_walk  breed birthday  weight  \\\n",
       "0  vehicle             True             False    NaN     None     0.0   \n",
       "1      NaN             True             False    NaN     None     0.0   \n",
       "2      NaN            False             False    NaN     None     0.0   \n",
       "3      NaN            False             False    NaN     None     NaN   \n",
       "4  vehicle             True             False    NaN     None     NaN   \n",
       "\n",
       "  trk_type  battery  temperature network_operator  last_loc_latitude  \\\n",
       "0   Clio 4       69         16.0        objenious          48.764370   \n",
       "1      NaN       83         21.0        objenious          48.842258   \n",
       "2      NaN       64         23.0        objenious          48.826716   \n",
       "3      NaN       17         40.0        objenious          48.810440   \n",
       "4      NaN       97         13.0        objenious          48.799959   \n",
       "\n",
       "   last_loc_longitude                last_location_date  \\\n",
       "0            2.252336  2020-04-08 14:28:43.094000+00:00   \n",
       "1            2.278239  2020-04-08 16:23:45.399000+00:00   \n",
       "2            2.286275  2020-04-08 14:58:29.058000+00:00   \n",
       "3            2.249645  2020-04-08 14:49:31.162000+00:00   \n",
       "4            2.431709  2020-04-08 15:32:40.005000+00:00   \n",
       "\n",
       "                   last_uplink_date   state  \n",
       "0  2020-04-08 14:28:43.094000+00:00  online  \n",
       "1  2020-04-08 16:23:45.399000+00:00  online  \n",
       "2  2020-04-08 14:58:29.058000+00:00  online  \n",
       "3  2020-04-08 14:49:31.162000+00:00  online  \n",
       "4  2020-04-08 15:32:40.005000+00:00  online  "
      ]
     },
     "execution_count": 45,
     "metadata": {},
     "output_type": "execute_result"
    }
   ],
   "source": [
    "# Display 5th first rows\n",
    "lwt1_dtf.head()"
   ]
  },
  {
   "cell_type": "code",
   "execution_count": 46,
   "metadata": {
    "ExecuteTime": {
     "end_time": "2020-04-10T09:42:02.767655Z",
     "start_time": "2020-04-10T09:42:02.677167Z"
    }
   },
   "outputs": [
    {
     "data": {
      "text/html": [
       "<div>\n",
       "<style scoped>\n",
       "    .dataframe tbody tr th:only-of-type {\n",
       "        vertical-align: middle;\n",
       "    }\n",
       "\n",
       "    .dataframe tbody tr th {\n",
       "        vertical-align: top;\n",
       "    }\n",
       "\n",
       "    .dataframe thead th {\n",
       "        text-align: right;\n",
       "    }\n",
       "</style>\n",
       "<table border=\"1\" class=\"dataframe\">\n",
       "  <thead>\n",
       "    <tr style=\"text-align: right;\">\n",
       "      <th></th>\n",
       "      <th>breed</th>\n",
       "      <th>weight</th>\n",
       "      <th>battery</th>\n",
       "      <th>temperature</th>\n",
       "      <th>last_loc_latitude</th>\n",
       "      <th>last_loc_longitude</th>\n",
       "    </tr>\n",
       "  </thead>\n",
       "  <tbody>\n",
       "    <tr>\n",
       "      <th>count</th>\n",
       "      <td>0.0</td>\n",
       "      <td>243.0</td>\n",
       "      <td>500.000000</td>\n",
       "      <td>500.000000</td>\n",
       "      <td>500.000000</td>\n",
       "      <td>500.000000</td>\n",
       "    </tr>\n",
       "    <tr>\n",
       "      <th>mean</th>\n",
       "      <td>NaN</td>\n",
       "      <td>0.0</td>\n",
       "      <td>66.964000</td>\n",
       "      <td>20.188000</td>\n",
       "      <td>47.435469</td>\n",
       "      <td>2.672009</td>\n",
       "    </tr>\n",
       "    <tr>\n",
       "      <th>std</th>\n",
       "      <td>NaN</td>\n",
       "      <td>0.0</td>\n",
       "      <td>22.164052</td>\n",
       "      <td>6.927094</td>\n",
       "      <td>2.117791</td>\n",
       "      <td>2.326462</td>\n",
       "    </tr>\n",
       "    <tr>\n",
       "      <th>min</th>\n",
       "      <td>NaN</td>\n",
       "      <td>0.0</td>\n",
       "      <td>0.000000</td>\n",
       "      <td>2.000000</td>\n",
       "      <td>42.501404</td>\n",
       "      <td>-4.064282</td>\n",
       "    </tr>\n",
       "    <tr>\n",
       "      <th>25%</th>\n",
       "      <td>NaN</td>\n",
       "      <td>0.0</td>\n",
       "      <td>55.000000</td>\n",
       "      <td>15.000000</td>\n",
       "      <td>45.755183</td>\n",
       "      <td>1.911018</td>\n",
       "    </tr>\n",
       "    <tr>\n",
       "      <th>50%</th>\n",
       "      <td>NaN</td>\n",
       "      <td>0.0</td>\n",
       "      <td>67.000000</td>\n",
       "      <td>20.000000</td>\n",
       "      <td>48.627899</td>\n",
       "      <td>2.341111</td>\n",
       "    </tr>\n",
       "    <tr>\n",
       "      <th>75%</th>\n",
       "      <td>NaN</td>\n",
       "      <td>0.0</td>\n",
       "      <td>83.250000</td>\n",
       "      <td>23.000000</td>\n",
       "      <td>48.883864</td>\n",
       "      <td>4.452094</td>\n",
       "    </tr>\n",
       "    <tr>\n",
       "      <th>max</th>\n",
       "      <td>NaN</td>\n",
       "      <td>0.0</td>\n",
       "      <td>99.000000</td>\n",
       "      <td>54.000000</td>\n",
       "      <td>50.989646</td>\n",
       "      <td>7.760044</td>\n",
       "    </tr>\n",
       "  </tbody>\n",
       "</table>\n",
       "</div>"
      ],
      "text/plain": [
       "       breed  weight     battery  temperature  last_loc_latitude  \\\n",
       "count    0.0   243.0  500.000000   500.000000         500.000000   \n",
       "mean     NaN     0.0   66.964000    20.188000          47.435469   \n",
       "std      NaN     0.0   22.164052     6.927094           2.117791   \n",
       "min      NaN     0.0    0.000000     2.000000          42.501404   \n",
       "25%      NaN     0.0   55.000000    15.000000          45.755183   \n",
       "50%      NaN     0.0   67.000000    20.000000          48.627899   \n",
       "75%      NaN     0.0   83.250000    23.000000          48.883864   \n",
       "max      NaN     0.0   99.000000    54.000000          50.989646   \n",
       "\n",
       "       last_loc_longitude  \n",
       "count          500.000000  \n",
       "mean             2.672009  \n",
       "std              2.326462  \n",
       "min             -4.064282  \n",
       "25%              1.911018  \n",
       "50%              2.341111  \n",
       "75%              4.452094  \n",
       "max              7.760044  "
      ]
     },
     "execution_count": 46,
     "metadata": {},
     "output_type": "execute_result"
    }
   ],
   "source": [
    "# Describe data with basic statistics\n",
    "lwt1_dtf.describe()"
   ]
  },
  {
   "cell_type": "code",
   "execution_count": 47,
   "metadata": {
    "ExecuteTime": {
     "end_time": "2020-04-10T09:42:02.893814Z",
     "start_time": "2020-04-10T09:42:02.784840Z"
    }
   },
   "outputs": [
    {
     "data": {
      "text/html": [
       "<div>\n",
       "<style scoped>\n",
       "    .dataframe tbody tr th:only-of-type {\n",
       "        vertical-align: middle;\n",
       "    }\n",
       "\n",
       "    .dataframe tbody tr th {\n",
       "        vertical-align: top;\n",
       "    }\n",
       "\n",
       "    .dataframe thead th {\n",
       "        text-align: right;\n",
       "    }\n",
       "</style>\n",
       "<table border=\"1\" class=\"dataframe\">\n",
       "  <thead>\n",
       "    <tr style=\"text-align: right;\">\n",
       "      <th></th>\n",
       "      <th>serial</th>\n",
       "      <th>user</th>\n",
       "      <th>lang</th>\n",
       "      <th>version</th>\n",
       "      <th>timezone</th>\n",
       "      <th>country</th>\n",
       "      <th>created</th>\n",
       "      <th>last_seen</th>\n",
       "      <th>mode</th>\n",
       "      <th>usage</th>\n",
       "      <th>birthday</th>\n",
       "      <th>trk_type</th>\n",
       "      <th>network_operator</th>\n",
       "      <th>last_location_date</th>\n",
       "      <th>last_uplink_date</th>\n",
       "      <th>state</th>\n",
       "    </tr>\n",
       "  </thead>\n",
       "  <tbody>\n",
       "    <tr>\n",
       "      <th>count</th>\n",
       "      <td>500</td>\n",
       "      <td>500</td>\n",
       "      <td>496</td>\n",
       "      <td>500</td>\n",
       "      <td>496</td>\n",
       "      <td>496</td>\n",
       "      <td>500</td>\n",
       "      <td>500</td>\n",
       "      <td>500</td>\n",
       "      <td>35</td>\n",
       "      <td>500</td>\n",
       "      <td>18</td>\n",
       "      <td>500</td>\n",
       "      <td>500</td>\n",
       "      <td>500</td>\n",
       "      <td>500</td>\n",
       "    </tr>\n",
       "    <tr>\n",
       "      <th>unique</th>\n",
       "      <td>500</td>\n",
       "      <td>423</td>\n",
       "      <td>2</td>\n",
       "      <td>13</td>\n",
       "      <td>11</td>\n",
       "      <td>5</td>\n",
       "      <td>500</td>\n",
       "      <td>500</td>\n",
       "      <td>11</td>\n",
       "      <td>3</td>\n",
       "      <td>3</td>\n",
       "      <td>18</td>\n",
       "      <td>1</td>\n",
       "      <td>500</td>\n",
       "      <td>500</td>\n",
       "      <td>1</td>\n",
       "    </tr>\n",
       "    <tr>\n",
       "      <th>top</th>\n",
       "      <td>a859875be859d182303ab534689c43ef</td>\n",
       "      <td>b9353a400c055738ac58abd85f573e2e</td>\n",
       "      <td>fr</td>\n",
       "      <td>tracker_LWTv2-4.28.0-LoRa+Sigfox</td>\n",
       "      <td>Europe/Paris</td>\n",
       "      <td>FR</td>\n",
       "      <td>2017-11-22 18:44:02.985847+00:00</td>\n",
       "      <td>2020-04-08 14:47:00.415056+00:00</td>\n",
       "      <td>1</td>\n",
       "      <td>vehicle</td>\n",
       "      <td>None</td>\n",
       "      <td>208</td>\n",
       "      <td>objenious</td>\n",
       "      <td>2020-04-08 15:39:53.523000+00:00</td>\n",
       "      <td>2020-04-08 15:39:53.523000+00:00</td>\n",
       "      <td>online</td>\n",
       "    </tr>\n",
       "    <tr>\n",
       "      <th>freq</th>\n",
       "      <td>1</td>\n",
       "      <td>6</td>\n",
       "      <td>482</td>\n",
       "      <td>236</td>\n",
       "      <td>466</td>\n",
       "      <td>482</td>\n",
       "      <td>1</td>\n",
       "      <td>1</td>\n",
       "      <td>150</td>\n",
       "      <td>26</td>\n",
       "      <td>495</td>\n",
       "      <td>1</td>\n",
       "      <td>500</td>\n",
       "      <td>1</td>\n",
       "      <td>1</td>\n",
       "      <td>500</td>\n",
       "    </tr>\n",
       "  </tbody>\n",
       "</table>\n",
       "</div>"
      ],
      "text/plain": [
       "                                  serial                              user  \\\n",
       "count                                500                               500   \n",
       "unique                               500                               423   \n",
       "top     a859875be859d182303ab534689c43ef  b9353a400c055738ac58abd85f573e2e   \n",
       "freq                                   1                                 6   \n",
       "\n",
       "       lang                           version      timezone country  \\\n",
       "count   496                               500           496     496   \n",
       "unique    2                                13            11       5   \n",
       "top      fr  tracker_LWTv2-4.28.0-LoRa+Sigfox  Europe/Paris      FR   \n",
       "freq    482                               236           466     482   \n",
       "\n",
       "                                 created                         last_seen  \\\n",
       "count                                500                               500   \n",
       "unique                               500                               500   \n",
       "top     2017-11-22 18:44:02.985847+00:00  2020-04-08 14:47:00.415056+00:00   \n",
       "freq                                   1                                 1   \n",
       "\n",
       "       mode    usage birthday trk_type network_operator  \\\n",
       "count   500       35      500       18              500   \n",
       "unique   11        3        3       18                1   \n",
       "top       1  vehicle     None      208        objenious   \n",
       "freq    150       26      495        1              500   \n",
       "\n",
       "                      last_location_date                  last_uplink_date  \\\n",
       "count                                500                               500   \n",
       "unique                               500                               500   \n",
       "top     2020-04-08 15:39:53.523000+00:00  2020-04-08 15:39:53.523000+00:00   \n",
       "freq                                   1                                 1   \n",
       "\n",
       "         state  \n",
       "count      500  \n",
       "unique       1  \n",
       "top     online  \n",
       "freq       500  "
      ]
     },
     "execution_count": 47,
     "metadata": {},
     "output_type": "execute_result"
    }
   ],
   "source": [
    "# Describe data for objects type\n",
    "lwt1_dtf.describe(include=np.object)"
   ]
  },
  {
   "cell_type": "raw",
   "metadata": {
    "ExecuteTime": {
     "end_time": "2020-04-09T21:14:31.664430Z",
     "start_time": "2020-04-09T21:14:31.631121Z"
    }
   },
   "source": [
    "# Number of unique data per columns\n",
    "lwt1_dtf.nunique()"
   ]
  },
  {
   "cell_type": "code",
   "execution_count": 48,
   "metadata": {
    "ExecuteTime": {
     "end_time": "2020-04-10T09:42:02.909711Z",
     "start_time": "2020-04-10T09:42:02.896149Z"
    }
   },
   "outputs": [
    {
     "data": {
      "text/plain": [
       "count                                  500\n",
       "unique                                  13\n",
       "top       tracker_LWTv2-4.28.0-LoRa+Sigfox\n",
       "freq                                   236\n",
       "Name: version, dtype: object"
      ]
     },
     "execution_count": 48,
     "metadata": {},
     "output_type": "execute_result"
    }
   ],
   "source": [
    "# Describe a specific data\n",
    "lwt1_dtf[\"version\"].describe()"
   ]
  },
  {
   "cell_type": "code",
   "execution_count": 49,
   "metadata": {
    "ExecuteTime": {
     "end_time": "2020-04-10T09:42:02.926056Z",
     "start_time": "2020-04-10T09:42:02.912844Z"
    }
   },
   "outputs": [
    {
     "data": {
      "text/plain": [
       "tracker_LWTv2-4.28.0-LoRa+Sigfox    236\n",
       "tracker_LWTv2-4.22.1-LoRa+Sigfox    181\n",
       "tracker_LWTv2-1.20.0                 23\n",
       "tracker_LWTv2-3.11.0-LoRa+Sigfox     14\n",
       "tracker_LWTv2-1.17.0                 11\n",
       "tracker_LWTv2-4.15.6-LoRa+Sigfox      9\n",
       "tracker_LWTv2-4.15.3-LoRa+Sigfox      8\n",
       "tracker_LWTv2-2.1.0-LoRa-ALL          7\n",
       "tracker_LWTv2-4.11.1-LoRa+Sigfox      6\n",
       "tracker_LWTv2-1.15.0                  2\n",
       "tracker_LWTv2-3.1.0-LoRa+Sigfox       1\n",
       "tracker_LWTv2-1.13.0                  1\n",
       "tracker_LWTv2-4.12.0-LoRa+Sigfox      1\n",
       "Name: version, dtype: int64"
      ]
     },
     "execution_count": 49,
     "metadata": {},
     "output_type": "execute_result"
    }
   ],
   "source": [
    "# Count the number of unique value for specific data\n",
    "lwt1_dtf[\"version\"].value_counts()"
   ]
  },
  {
   "cell_type": "code",
   "execution_count": 50,
   "metadata": {
    "ExecuteTime": {
     "end_time": "2020-04-10T09:42:02.951395Z",
     "start_time": "2020-04-10T09:42:02.933733Z"
    },
    "scrolled": false
   },
   "outputs": [
    {
     "name": "stdout",
     "output_type": "stream",
     "text": [
      "<class 'pandas.core.frame.DataFrame'>\n",
      "RangeIndex: 500 entries, 0 to 499\n",
      "Data columns (total 24 columns):\n",
      " #   Column              Non-Null Count  Dtype  \n",
      "---  ------              --------------  -----  \n",
      " 0   serial              500 non-null    object \n",
      " 1   user                500 non-null    object \n",
      " 2   lang                496 non-null    object \n",
      " 3   version             500 non-null    object \n",
      " 4   timezone            496 non-null    object \n",
      " 5   country             496 non-null    object \n",
      " 6   created             500 non-null    object \n",
      " 7   last_seen           500 non-null    object \n",
      " 8   mode                500 non-null    object \n",
      " 9   usage               35 non-null     object \n",
      " 10  notify_position     500 non-null    bool   \n",
      " 11  notify_long_walk    500 non-null    bool   \n",
      " 12  breed               0 non-null      float64\n",
      " 13  birthday            500 non-null    object \n",
      " 14  weight              243 non-null    float64\n",
      " 15  trk_type            18 non-null     object \n",
      " 16  battery             500 non-null    int64  \n",
      " 17  temperature         500 non-null    float64\n",
      " 18  network_operator    500 non-null    object \n",
      " 19  last_loc_latitude   500 non-null    float64\n",
      " 20  last_loc_longitude  500 non-null    float64\n",
      " 21  last_location_date  500 non-null    object \n",
      " 22  last_uplink_date    500 non-null    object \n",
      " 23  state               500 non-null    object \n",
      "dtypes: bool(2), float64(5), int64(1), object(16)\n",
      "memory usage: 87.0+ KB\n"
     ]
    }
   ],
   "source": [
    "# Get the columns stats\n",
    "lwt1_dtf.info()"
   ]
  },
  {
   "cell_type": "markdown",
   "metadata": {
    "ExecuteTime": {
     "end_time": "2020-04-10T08:06:21.209217Z",
     "start_time": "2020-04-10T08:06:21.204348Z"
    }
   },
   "source": [
    "## LWT1 data"
   ]
  },
  {
   "cell_type": "code",
   "execution_count": 51,
   "metadata": {
    "ExecuteTime": {
     "end_time": "2020-04-10T09:42:02.981857Z",
     "start_time": "2020-04-10T09:42:02.954814Z"
    }
   },
   "outputs": [
    {
     "data": {
      "text/html": [
       "<div>\n",
       "<style scoped>\n",
       "    .dataframe tbody tr th:only-of-type {\n",
       "        vertical-align: middle;\n",
       "    }\n",
       "\n",
       "    .dataframe tbody tr th {\n",
       "        vertical-align: top;\n",
       "    }\n",
       "\n",
       "    .dataframe thead th {\n",
       "        text-align: right;\n",
       "    }\n",
       "</style>\n",
       "<table border=\"1\" class=\"dataframe\">\n",
       "  <thead>\n",
       "    <tr style=\"text-align: right;\">\n",
       "      <th></th>\n",
       "      <th>serial</th>\n",
       "      <th>date</th>\n",
       "      <th>latitude</th>\n",
       "      <th>longitude</th>\n",
       "      <th>accuracy</th>\n",
       "      <th>method</th>\n",
       "      <th>battery</th>\n",
       "    </tr>\n",
       "  </thead>\n",
       "  <tbody>\n",
       "    <tr>\n",
       "      <th>0</th>\n",
       "      <td>e702e6908527756c89a6b2fe2d2b8829</td>\n",
       "      <td>2020-04-08 14:28:43.094</td>\n",
       "      <td>48.764444</td>\n",
       "      <td>2.252292</td>\n",
       "      <td>25</td>\n",
       "      <td>PositionMethodNVXBSSID</td>\n",
       "      <td>NaN</td>\n",
       "    </tr>\n",
       "    <tr>\n",
       "      <th>1</th>\n",
       "      <td>e702e6908527756c89a6b2fe2d2b8829</td>\n",
       "      <td>2020-04-08 06:28:42.780</td>\n",
       "      <td>48.764444</td>\n",
       "      <td>2.252292</td>\n",
       "      <td>25</td>\n",
       "      <td>PositionMethodNVXBSSID</td>\n",
       "      <td>NaN</td>\n",
       "    </tr>\n",
       "    <tr>\n",
       "      <th>2</th>\n",
       "      <td>e702e6908527756c89a6b2fe2d2b8829</td>\n",
       "      <td>2020-04-08 02:28:42.658</td>\n",
       "      <td>48.764444</td>\n",
       "      <td>2.252292</td>\n",
       "      <td>25</td>\n",
       "      <td>PositionMethodNVXBSSID</td>\n",
       "      <td>NaN</td>\n",
       "    </tr>\n",
       "    <tr>\n",
       "      <th>3</th>\n",
       "      <td>e702e6908527756c89a6b2fe2d2b8829</td>\n",
       "      <td>2020-04-07 22:28:43.087</td>\n",
       "      <td>48.764444</td>\n",
       "      <td>2.252292</td>\n",
       "      <td>25</td>\n",
       "      <td>PositionMethodNVXBSSID</td>\n",
       "      <td>69.0</td>\n",
       "    </tr>\n",
       "    <tr>\n",
       "      <th>4</th>\n",
       "      <td>e702e6908527756c89a6b2fe2d2b8829</td>\n",
       "      <td>2020-04-07 18:28:42.652</td>\n",
       "      <td>48.764444</td>\n",
       "      <td>2.252292</td>\n",
       "      <td>25</td>\n",
       "      <td>PositionMethodNVXBSSID</td>\n",
       "      <td>NaN</td>\n",
       "    </tr>\n",
       "  </tbody>\n",
       "</table>\n",
       "</div>"
      ],
      "text/plain": [
       "                             serial                    date   latitude  \\\n",
       "0  e702e6908527756c89a6b2fe2d2b8829 2020-04-08 14:28:43.094  48.764444   \n",
       "1  e702e6908527756c89a6b2fe2d2b8829 2020-04-08 06:28:42.780  48.764444   \n",
       "2  e702e6908527756c89a6b2fe2d2b8829 2020-04-08 02:28:42.658  48.764444   \n",
       "3  e702e6908527756c89a6b2fe2d2b8829 2020-04-07 22:28:43.087  48.764444   \n",
       "4  e702e6908527756c89a6b2fe2d2b8829 2020-04-07 18:28:42.652  48.764444   \n",
       "\n",
       "   longitude  accuracy                  method  battery  \n",
       "0   2.252292        25  PositionMethodNVXBSSID      NaN  \n",
       "1   2.252292        25  PositionMethodNVXBSSID      NaN  \n",
       "2   2.252292        25  PositionMethodNVXBSSID      NaN  \n",
       "3   2.252292        25  PositionMethodNVXBSSID     69.0  \n",
       "4   2.252292        25  PositionMethodNVXBSSID      NaN  "
      ]
     },
     "execution_count": 51,
     "metadata": {},
     "output_type": "execute_result"
    }
   ],
   "source": [
    "# Display 5th first rows\n",
    "data_lwt1_dtf.head()"
   ]
  },
  {
   "cell_type": "code",
   "execution_count": 52,
   "metadata": {
    "ExecuteTime": {
     "end_time": "2020-04-10T09:42:03.210868Z",
     "start_time": "2020-04-10T09:42:02.984771Z"
    }
   },
   "outputs": [
    {
     "data": {
      "text/html": [
       "<div>\n",
       "<style scoped>\n",
       "    .dataframe tbody tr th:only-of-type {\n",
       "        vertical-align: middle;\n",
       "    }\n",
       "\n",
       "    .dataframe tbody tr th {\n",
       "        vertical-align: top;\n",
       "    }\n",
       "\n",
       "    .dataframe thead th {\n",
       "        text-align: right;\n",
       "    }\n",
       "</style>\n",
       "<table border=\"1\" class=\"dataframe\">\n",
       "  <thead>\n",
       "    <tr style=\"text-align: right;\">\n",
       "      <th></th>\n",
       "      <th>latitude</th>\n",
       "      <th>longitude</th>\n",
       "      <th>accuracy</th>\n",
       "      <th>battery</th>\n",
       "    </tr>\n",
       "  </thead>\n",
       "  <tbody>\n",
       "    <tr>\n",
       "      <th>count</th>\n",
       "      <td>1.465405e+06</td>\n",
       "      <td>1.465405e+06</td>\n",
       "      <td>1.465405e+06</td>\n",
       "      <td>207362.000000</td>\n",
       "    </tr>\n",
       "    <tr>\n",
       "      <th>mean</th>\n",
       "      <td>4.743944e+01</td>\n",
       "      <td>2.688919e+00</td>\n",
       "      <td>8.081566e+01</td>\n",
       "      <td>63.864454</td>\n",
       "    </tr>\n",
       "    <tr>\n",
       "      <th>std</th>\n",
       "      <td>2.126504e+00</td>\n",
       "      <td>2.352223e+00</td>\n",
       "      <td>8.701135e+02</td>\n",
       "      <td>25.805406</td>\n",
       "    </tr>\n",
       "    <tr>\n",
       "      <th>min</th>\n",
       "      <td>-2.004650e+01</td>\n",
       "      <td>-1.219328e+02</td>\n",
       "      <td>1.000000e+00</td>\n",
       "      <td>0.000000</td>\n",
       "    </tr>\n",
       "    <tr>\n",
       "      <th>25%</th>\n",
       "      <td>4.575355e+01</td>\n",
       "      <td>1.948512e+00</td>\n",
       "      <td>2.500000e+01</td>\n",
       "      <td>46.000000</td>\n",
       "    </tr>\n",
       "    <tr>\n",
       "      <th>50%</th>\n",
       "      <td>4.867249e+01</td>\n",
       "      <td>2.340483e+00</td>\n",
       "      <td>3.600000e+01</td>\n",
       "      <td>66.000000</td>\n",
       "    </tr>\n",
       "    <tr>\n",
       "      <th>75%</th>\n",
       "      <td>4.888449e+01</td>\n",
       "      <td>4.368403e+00</td>\n",
       "      <td>5.000000e+01</td>\n",
       "      <td>85.000000</td>\n",
       "    </tr>\n",
       "    <tr>\n",
       "      <th>max</th>\n",
       "      <td>5.398626e+01</td>\n",
       "      <td>5.752917e+01</td>\n",
       "      <td>2.000000e+04</td>\n",
       "      <td>99.000000</td>\n",
       "    </tr>\n",
       "  </tbody>\n",
       "</table>\n",
       "</div>"
      ],
      "text/plain": [
       "           latitude     longitude      accuracy        battery\n",
       "count  1.465405e+06  1.465405e+06  1.465405e+06  207362.000000\n",
       "mean   4.743944e+01  2.688919e+00  8.081566e+01      63.864454\n",
       "std    2.126504e+00  2.352223e+00  8.701135e+02      25.805406\n",
       "min   -2.004650e+01 -1.219328e+02  1.000000e+00       0.000000\n",
       "25%    4.575355e+01  1.948512e+00  2.500000e+01      46.000000\n",
       "50%    4.867249e+01  2.340483e+00  3.600000e+01      66.000000\n",
       "75%    4.888449e+01  4.368403e+00  5.000000e+01      85.000000\n",
       "max    5.398626e+01  5.752917e+01  2.000000e+04      99.000000"
      ]
     },
     "execution_count": 52,
     "metadata": {},
     "output_type": "execute_result"
    }
   ],
   "source": [
    "# Describe data with basic statistics\n",
    "data_lwt1_dtf.describe()"
   ]
  },
  {
   "cell_type": "code",
   "execution_count": 53,
   "metadata": {
    "ExecuteTime": {
     "end_time": "2020-04-10T09:42:03.667375Z",
     "start_time": "2020-04-10T09:42:03.215165Z"
    }
   },
   "outputs": [
    {
     "data": {
      "text/html": [
       "<div>\n",
       "<style scoped>\n",
       "    .dataframe tbody tr th:only-of-type {\n",
       "        vertical-align: middle;\n",
       "    }\n",
       "\n",
       "    .dataframe tbody tr th {\n",
       "        vertical-align: top;\n",
       "    }\n",
       "\n",
       "    .dataframe thead th {\n",
       "        text-align: right;\n",
       "    }\n",
       "</style>\n",
       "<table border=\"1\" class=\"dataframe\">\n",
       "  <thead>\n",
       "    <tr style=\"text-align: right;\">\n",
       "      <th></th>\n",
       "      <th>serial</th>\n",
       "      <th>method</th>\n",
       "    </tr>\n",
       "  </thead>\n",
       "  <tbody>\n",
       "    <tr>\n",
       "      <th>count</th>\n",
       "      <td>1465405</td>\n",
       "      <td>1465405</td>\n",
       "    </tr>\n",
       "    <tr>\n",
       "      <th>unique</th>\n",
       "      <td>500</td>\n",
       "      <td>8</td>\n",
       "    </tr>\n",
       "    <tr>\n",
       "      <th>top</th>\n",
       "      <td>dc5a7dc13f439eddb13b32348408b9ac</td>\n",
       "      <td>PositionMethodNVXBSSID</td>\n",
       "    </tr>\n",
       "    <tr>\n",
       "      <th>freq</th>\n",
       "      <td>10000</td>\n",
       "      <td>833342</td>\n",
       "    </tr>\n",
       "  </tbody>\n",
       "</table>\n",
       "</div>"
      ],
      "text/plain": [
       "                                  serial                  method\n",
       "count                            1465405                 1465405\n",
       "unique                               500                       8\n",
       "top     dc5a7dc13f439eddb13b32348408b9ac  PositionMethodNVXBSSID\n",
       "freq                               10000                  833342"
      ]
     },
     "execution_count": 53,
     "metadata": {},
     "output_type": "execute_result"
    }
   ],
   "source": [
    "# Describe data for objects type\n",
    "data_lwt1_dtf.describe(include=np.object)"
   ]
  },
  {
   "cell_type": "raw",
   "metadata": {
    "ExecuteTime": {
     "end_time": "2020-04-09T21:14:31.664430Z",
     "start_time": "2020-04-09T21:14:31.631121Z"
    }
   },
   "source": [
    "# Number of unique data per columns\n",
    "data_lwt1_dtf.nunique()"
   ]
  },
  {
   "cell_type": "code",
   "execution_count": 54,
   "metadata": {
    "ExecuteTime": {
     "end_time": "2020-04-10T09:42:03.890035Z",
     "start_time": "2020-04-10T09:42:03.670770Z"
    }
   },
   "outputs": [
    {
     "data": {
      "text/plain": [
       "count                    1465405\n",
       "unique                         8\n",
       "top       PositionMethodNVXBSSID\n",
       "freq                      833342\n",
       "Name: method, dtype: object"
      ]
     },
     "execution_count": 54,
     "metadata": {},
     "output_type": "execute_result"
    }
   ],
   "source": [
    "# Describe a specific data\n",
    "data_lwt1_dtf[\"method\"].describe()"
   ]
  },
  {
   "cell_type": "code",
   "execution_count": 55,
   "metadata": {
    "ExecuteTime": {
     "end_time": "2020-04-10T09:42:04.078141Z",
     "start_time": "2020-04-10T09:42:03.893172Z"
    }
   },
   "outputs": [
    {
     "data": {
      "text/plain": [
       "PositionMethodNVXBSSID       833342\n",
       "PositionMethodBSSID          329595\n",
       "PositionMethodGPSUbiscale    199248\n",
       "PositionMethodServer          49848\n",
       "PositionMethodBSSID2          39125\n",
       "PositionMethodPhone           10156\n",
       "PositionMethodNetwork          4011\n",
       "PositionMethodGPS                80\n",
       "Name: method, dtype: int64"
      ]
     },
     "execution_count": 55,
     "metadata": {},
     "output_type": "execute_result"
    }
   ],
   "source": [
    "# Count the number of unique value for specific data\n",
    "data_lwt1_dtf[\"method\"].value_counts()"
   ]
  },
  {
   "cell_type": "code",
   "execution_count": 56,
   "metadata": {
    "ExecuteTime": {
     "end_time": "2020-04-10T09:42:04.285433Z",
     "start_time": "2020-04-10T09:42:04.081944Z"
    },
    "scrolled": false
   },
   "outputs": [
    {
     "name": "stdout",
     "output_type": "stream",
     "text": [
      "<class 'pandas.core.frame.DataFrame'>\n",
      "RangeIndex: 1465405 entries, 0 to 1465404\n",
      "Data columns (total 7 columns):\n",
      " #   Column     Non-Null Count    Dtype         \n",
      "---  ------     --------------    -----         \n",
      " 0   serial     1465405 non-null  object        \n",
      " 1   date       1465405 non-null  datetime64[ns]\n",
      " 2   latitude   1465405 non-null  float64       \n",
      " 3   longitude  1465405 non-null  float64       \n",
      " 4   accuracy   1465405 non-null  int64         \n",
      " 5   method     1465405 non-null  object        \n",
      " 6   battery    207362 non-null   float64       \n",
      "dtypes: datetime64[ns](1), float64(3), int64(1), object(2)\n",
      "memory usage: 78.3+ MB\n"
     ]
    }
   ],
   "source": [
    "# Get the columns stats\n",
    "data_lwt1_dtf.info()"
   ]
  },
  {
   "cell_type": "markdown",
   "metadata": {},
   "source": [
    "## LWT2 tracker data"
   ]
  },
  {
   "cell_type": "code",
   "execution_count": 57,
   "metadata": {
    "ExecuteTime": {
     "end_time": "2020-04-10T09:42:04.356818Z",
     "start_time": "2020-04-10T09:42:04.295483Z"
    }
   },
   "outputs": [
    {
     "data": {
      "text/html": [
       "<div>\n",
       "<style scoped>\n",
       "    .dataframe tbody tr th:only-of-type {\n",
       "        vertical-align: middle;\n",
       "    }\n",
       "\n",
       "    .dataframe tbody tr th {\n",
       "        vertical-align: top;\n",
       "    }\n",
       "\n",
       "    .dataframe thead th {\n",
       "        text-align: right;\n",
       "    }\n",
       "</style>\n",
       "<table border=\"1\" class=\"dataframe\">\n",
       "  <thead>\n",
       "    <tr style=\"text-align: right;\">\n",
       "      <th></th>\n",
       "      <th>serial</th>\n",
       "      <th>user</th>\n",
       "      <th>lang</th>\n",
       "      <th>version</th>\n",
       "      <th>timezone</th>\n",
       "      <th>country</th>\n",
       "      <th>created</th>\n",
       "      <th>last_seen</th>\n",
       "      <th>mode</th>\n",
       "      <th>usage</th>\n",
       "      <th>notify_position</th>\n",
       "      <th>notify_long_walk</th>\n",
       "      <th>breed</th>\n",
       "      <th>birthday</th>\n",
       "      <th>weight</th>\n",
       "      <th>trk_type</th>\n",
       "      <th>battery</th>\n",
       "      <th>temperature</th>\n",
       "      <th>network_operator</th>\n",
       "      <th>last_loc_latitude</th>\n",
       "      <th>last_loc_longitude</th>\n",
       "      <th>last_location_date</th>\n",
       "      <th>last_uplink_date</th>\n",
       "      <th>state</th>\n",
       "    </tr>\n",
       "  </thead>\n",
       "  <tbody>\n",
       "    <tr>\n",
       "      <th>0</th>\n",
       "      <td>0871c953d28ec616a58f91c6a7a6c07b</td>\n",
       "      <td>8b76445d016f40ce51baada1dd3ac175</td>\n",
       "      <td>NaN</td>\n",
       "      <td>tracker_LWT2v1-3.12.0-LoRa+Sigfox</td>\n",
       "      <td>NaN</td>\n",
       "      <td>NaN</td>\n",
       "      <td>2018-07-11 12:25:54.435524+00:00</td>\n",
       "      <td>2020-04-08 14:00:07.025627+00:00</td>\n",
       "      <td>normal</td>\n",
       "      <td>dog</td>\n",
       "      <td>True</td>\n",
       "      <td>False</td>\n",
       "      <td>braque hongrois</td>\n",
       "      <td>2010-11-15</td>\n",
       "      <td>35.0</td>\n",
       "      <td>NaN</td>\n",
       "      <td>96</td>\n",
       "      <td>25.0</td>\n",
       "      <td>objenious</td>\n",
       "      <td>48.639900</td>\n",
       "      <td>2.730925</td>\n",
       "      <td>2020-04-08 14:00:01.672000+00:00</td>\n",
       "      <td>2020-04-08 14:00:01.672000+00:00</td>\n",
       "      <td>online</td>\n",
       "    </tr>\n",
       "    <tr>\n",
       "      <th>1</th>\n",
       "      <td>5c56c120d8d23af988c46637ac660255</td>\n",
       "      <td>da08b198d2fbdd1ca44f41a74c440376</td>\n",
       "      <td>fr</td>\n",
       "      <td>tracker_LWT2v1-4.28.0-LoRa+Sigfox</td>\n",
       "      <td>Europe/Paris</td>\n",
       "      <td>FR</td>\n",
       "      <td>2018-07-17 06:58:43.234456+00:00</td>\n",
       "      <td>2020-04-08 14:51:27.747297+00:00</td>\n",
       "      <td>2</td>\n",
       "      <td>dog</td>\n",
       "      <td>True</td>\n",
       "      <td>False</td>\n",
       "      <td>golden</td>\n",
       "      <td>2016-10-10</td>\n",
       "      <td>38.0</td>\n",
       "      <td>NaN</td>\n",
       "      <td>63</td>\n",
       "      <td>26.0</td>\n",
       "      <td>objenious</td>\n",
       "      <td>48.851073</td>\n",
       "      <td>2.207278</td>\n",
       "      <td>2020-04-08 14:44:42.020000+00:00</td>\n",
       "      <td>2020-04-08 14:44:42.020000+00:00</td>\n",
       "      <td>online</td>\n",
       "    </tr>\n",
       "    <tr>\n",
       "      <th>2</th>\n",
       "      <td>cb309d8074909e02fa4391692edd19ba</td>\n",
       "      <td>d91e6f50d301a6399eda8ab316afc58c</td>\n",
       "      <td>fr</td>\n",
       "      <td>tracker_LWT2v1-4.28.0-LoRa+Sigfox</td>\n",
       "      <td>Europe/Paris</td>\n",
       "      <td>FR</td>\n",
       "      <td>2018-07-18 09:25:40.203224+00:00</td>\n",
       "      <td>2020-04-08 16:05:13.400611+00:00</td>\n",
       "      <td>22</td>\n",
       "      <td>cat</td>\n",
       "      <td>False</td>\n",
       "      <td>True</td>\n",
       "      <td>angora turc</td>\n",
       "      <td>2012-02-28</td>\n",
       "      <td>NaN</td>\n",
       "      <td>NaN</td>\n",
       "      <td>94</td>\n",
       "      <td>27.0</td>\n",
       "      <td>objenious</td>\n",
       "      <td>43.582090</td>\n",
       "      <td>7.021454</td>\n",
       "      <td>2020-04-08 16:05:08.104000+00:00</td>\n",
       "      <td>2020-04-08 16:05:08.104000+00:00</td>\n",
       "      <td>online</td>\n",
       "    </tr>\n",
       "    <tr>\n",
       "      <th>3</th>\n",
       "      <td>a17523e5e0ac1994674939bd7f3d293c</td>\n",
       "      <td>28fd8f44679af0e65f015f122c472fc7</td>\n",
       "      <td>fr</td>\n",
       "      <td>tracker_LWT2v1-4.28.0-LoRa+Sigfox</td>\n",
       "      <td>Europe/Paris</td>\n",
       "      <td>FR</td>\n",
       "      <td>2018-07-18 09:26:56.896662+00:00</td>\n",
       "      <td>2020-04-08 14:53:05.427388+00:00</td>\n",
       "      <td>22</td>\n",
       "      <td>cat</td>\n",
       "      <td>True</td>\n",
       "      <td>True</td>\n",
       "      <td>chat</td>\n",
       "      <td>1900-01-01</td>\n",
       "      <td>0.0</td>\n",
       "      <td>NaN</td>\n",
       "      <td>99</td>\n",
       "      <td>34.0</td>\n",
       "      <td>objenious</td>\n",
       "      <td>44.122677</td>\n",
       "      <td>4.068466</td>\n",
       "      <td>2020-04-08 14:47:29.717000+00:00</td>\n",
       "      <td>2020-04-08 14:47:29.717000+00:00</td>\n",
       "      <td>online</td>\n",
       "    </tr>\n",
       "    <tr>\n",
       "      <th>4</th>\n",
       "      <td>166947afdec597624d83fb00e541c5c0</td>\n",
       "      <td>93f369dd04afbaa5517bb4dd7c8bf42d</td>\n",
       "      <td>fr</td>\n",
       "      <td>tracker_LWT2v1-4.28.0-LoRa+Sigfox</td>\n",
       "      <td>Europe/Paris</td>\n",
       "      <td>FR</td>\n",
       "      <td>2018-07-18 09:55:47.369154+00:00</td>\n",
       "      <td>2020-04-08 16:23:38.006382+00:00</td>\n",
       "      <td>22</td>\n",
       "      <td>dog</td>\n",
       "      <td>False</td>\n",
       "      <td>True</td>\n",
       "      <td>Berger Allemand</td>\n",
       "      <td>2011-09-04</td>\n",
       "      <td>NaN</td>\n",
       "      <td>NaN</td>\n",
       "      <td>99</td>\n",
       "      <td>31.0</td>\n",
       "      <td>objenious</td>\n",
       "      <td>47.660271</td>\n",
       "      <td>6.929516</td>\n",
       "      <td>2020-04-08 16:23:32.596000+00:00</td>\n",
       "      <td>2020-04-08 16:23:32.596000+00:00</td>\n",
       "      <td>online</td>\n",
       "    </tr>\n",
       "  </tbody>\n",
       "</table>\n",
       "</div>"
      ],
      "text/plain": [
       "                             serial                              user lang  \\\n",
       "0  0871c953d28ec616a58f91c6a7a6c07b  8b76445d016f40ce51baada1dd3ac175  NaN   \n",
       "1  5c56c120d8d23af988c46637ac660255  da08b198d2fbdd1ca44f41a74c440376   fr   \n",
       "2  cb309d8074909e02fa4391692edd19ba  d91e6f50d301a6399eda8ab316afc58c   fr   \n",
       "3  a17523e5e0ac1994674939bd7f3d293c  28fd8f44679af0e65f015f122c472fc7   fr   \n",
       "4  166947afdec597624d83fb00e541c5c0  93f369dd04afbaa5517bb4dd7c8bf42d   fr   \n",
       "\n",
       "                             version      timezone country  \\\n",
       "0  tracker_LWT2v1-3.12.0-LoRa+Sigfox           NaN     NaN   \n",
       "1  tracker_LWT2v1-4.28.0-LoRa+Sigfox  Europe/Paris      FR   \n",
       "2  tracker_LWT2v1-4.28.0-LoRa+Sigfox  Europe/Paris      FR   \n",
       "3  tracker_LWT2v1-4.28.0-LoRa+Sigfox  Europe/Paris      FR   \n",
       "4  tracker_LWT2v1-4.28.0-LoRa+Sigfox  Europe/Paris      FR   \n",
       "\n",
       "                            created                         last_seen    mode  \\\n",
       "0  2018-07-11 12:25:54.435524+00:00  2020-04-08 14:00:07.025627+00:00  normal   \n",
       "1  2018-07-17 06:58:43.234456+00:00  2020-04-08 14:51:27.747297+00:00       2   \n",
       "2  2018-07-18 09:25:40.203224+00:00  2020-04-08 16:05:13.400611+00:00      22   \n",
       "3  2018-07-18 09:26:56.896662+00:00  2020-04-08 14:53:05.427388+00:00      22   \n",
       "4  2018-07-18 09:55:47.369154+00:00  2020-04-08 16:23:38.006382+00:00      22   \n",
       "\n",
       "  usage  notify_position  notify_long_walk            breed    birthday  \\\n",
       "0   dog             True             False  braque hongrois  2010-11-15   \n",
       "1   dog             True             False           golden  2016-10-10   \n",
       "2   cat            False              True      angora turc  2012-02-28   \n",
       "3   cat             True              True             chat  1900-01-01   \n",
       "4   dog            False              True  Berger Allemand  2011-09-04   \n",
       "\n",
       "   weight trk_type  battery  temperature network_operator  last_loc_latitude  \\\n",
       "0    35.0      NaN       96         25.0        objenious          48.639900   \n",
       "1    38.0      NaN       63         26.0        objenious          48.851073   \n",
       "2     NaN      NaN       94         27.0        objenious          43.582090   \n",
       "3     0.0      NaN       99         34.0        objenious          44.122677   \n",
       "4     NaN      NaN       99         31.0        objenious          47.660271   \n",
       "\n",
       "   last_loc_longitude                last_location_date  \\\n",
       "0            2.730925  2020-04-08 14:00:01.672000+00:00   \n",
       "1            2.207278  2020-04-08 14:44:42.020000+00:00   \n",
       "2            7.021454  2020-04-08 16:05:08.104000+00:00   \n",
       "3            4.068466  2020-04-08 14:47:29.717000+00:00   \n",
       "4            6.929516  2020-04-08 16:23:32.596000+00:00   \n",
       "\n",
       "                   last_uplink_date   state  \n",
       "0  2020-04-08 14:00:01.672000+00:00  online  \n",
       "1  2020-04-08 14:44:42.020000+00:00  online  \n",
       "2  2020-04-08 16:05:08.104000+00:00  online  \n",
       "3  2020-04-08 14:47:29.717000+00:00  online  \n",
       "4  2020-04-08 16:23:32.596000+00:00  online  "
      ]
     },
     "execution_count": 57,
     "metadata": {},
     "output_type": "execute_result"
    }
   ],
   "source": [
    "# Display 5th first rows\n",
    "lwt2_dtf.head()"
   ]
  },
  {
   "cell_type": "code",
   "execution_count": 58,
   "metadata": {
    "ExecuteTime": {
     "end_time": "2020-04-10T09:42:04.405658Z",
     "start_time": "2020-04-10T09:42:04.363032Z"
    }
   },
   "outputs": [
    {
     "data": {
      "text/html": [
       "<div>\n",
       "<style scoped>\n",
       "    .dataframe tbody tr th:only-of-type {\n",
       "        vertical-align: middle;\n",
       "    }\n",
       "\n",
       "    .dataframe tbody tr th {\n",
       "        vertical-align: top;\n",
       "    }\n",
       "\n",
       "    .dataframe thead th {\n",
       "        text-align: right;\n",
       "    }\n",
       "</style>\n",
       "<table border=\"1\" class=\"dataframe\">\n",
       "  <thead>\n",
       "    <tr style=\"text-align: right;\">\n",
       "      <th></th>\n",
       "      <th>weight</th>\n",
       "      <th>battery</th>\n",
       "      <th>temperature</th>\n",
       "      <th>last_loc_latitude</th>\n",
       "      <th>last_loc_longitude</th>\n",
       "    </tr>\n",
       "  </thead>\n",
       "  <tbody>\n",
       "    <tr>\n",
       "      <th>count</th>\n",
       "      <td>439.000000</td>\n",
       "      <td>500.00000</td>\n",
       "      <td>500.000000</td>\n",
       "      <td>500.000000</td>\n",
       "      <td>500.000000</td>\n",
       "    </tr>\n",
       "    <tr>\n",
       "      <th>mean</th>\n",
       "      <td>10.463098</td>\n",
       "      <td>70.35600</td>\n",
       "      <td>28.808000</td>\n",
       "      <td>47.006415</td>\n",
       "      <td>2.556734</td>\n",
       "    </tr>\n",
       "    <tr>\n",
       "      <th>std</th>\n",
       "      <td>28.328952</td>\n",
       "      <td>23.13213</td>\n",
       "      <td>5.370738</td>\n",
       "      <td>2.237603</td>\n",
       "      <td>2.709234</td>\n",
       "    </tr>\n",
       "    <tr>\n",
       "      <th>min</th>\n",
       "      <td>0.000000</td>\n",
       "      <td>1.00000</td>\n",
       "      <td>13.000000</td>\n",
       "      <td>42.537416</td>\n",
       "      <td>-4.539621</td>\n",
       "    </tr>\n",
       "    <tr>\n",
       "      <th>25%</th>\n",
       "      <td>1.750000</td>\n",
       "      <td>57.00000</td>\n",
       "      <td>25.000000</td>\n",
       "      <td>44.876074</td>\n",
       "      <td>1.190320</td>\n",
       "    </tr>\n",
       "    <tr>\n",
       "      <th>50%</th>\n",
       "      <td>5.000000</td>\n",
       "      <td>71.00000</td>\n",
       "      <td>28.000000</td>\n",
       "      <td>47.834786</td>\n",
       "      <td>2.350391</td>\n",
       "    </tr>\n",
       "    <tr>\n",
       "      <th>75%</th>\n",
       "      <td>11.000000</td>\n",
       "      <td>88.00000</td>\n",
       "      <td>32.000000</td>\n",
       "      <td>48.838001</td>\n",
       "      <td>4.766759</td>\n",
       "    </tr>\n",
       "    <tr>\n",
       "      <th>max</th>\n",
       "      <td>553.000000</td>\n",
       "      <td>99.00000</td>\n",
       "      <td>48.000000</td>\n",
       "      <td>51.029492</td>\n",
       "      <td>9.462309</td>\n",
       "    </tr>\n",
       "  </tbody>\n",
       "</table>\n",
       "</div>"
      ],
      "text/plain": [
       "           weight    battery  temperature  last_loc_latitude  \\\n",
       "count  439.000000  500.00000   500.000000         500.000000   \n",
       "mean    10.463098   70.35600    28.808000          47.006415   \n",
       "std     28.328952   23.13213     5.370738           2.237603   \n",
       "min      0.000000    1.00000    13.000000          42.537416   \n",
       "25%      1.750000   57.00000    25.000000          44.876074   \n",
       "50%      5.000000   71.00000    28.000000          47.834786   \n",
       "75%     11.000000   88.00000    32.000000          48.838001   \n",
       "max    553.000000   99.00000    48.000000          51.029492   \n",
       "\n",
       "       last_loc_longitude  \n",
       "count          500.000000  \n",
       "mean             2.556734  \n",
       "std              2.709234  \n",
       "min             -4.539621  \n",
       "25%              1.190320  \n",
       "50%              2.350391  \n",
       "75%              4.766759  \n",
       "max              9.462309  "
      ]
     },
     "execution_count": 58,
     "metadata": {},
     "output_type": "execute_result"
    }
   ],
   "source": [
    "# Describe data with basic statistics\n",
    "lwt2_dtf.describe()"
   ]
  },
  {
   "cell_type": "code",
   "execution_count": 59,
   "metadata": {
    "ExecuteTime": {
     "end_time": "2020-04-10T09:42:04.519184Z",
     "start_time": "2020-04-10T09:42:04.414012Z"
    }
   },
   "outputs": [
    {
     "data": {
      "text/html": [
       "<div>\n",
       "<style scoped>\n",
       "    .dataframe tbody tr th:only-of-type {\n",
       "        vertical-align: middle;\n",
       "    }\n",
       "\n",
       "    .dataframe tbody tr th {\n",
       "        vertical-align: top;\n",
       "    }\n",
       "\n",
       "    .dataframe thead th {\n",
       "        text-align: right;\n",
       "    }\n",
       "</style>\n",
       "<table border=\"1\" class=\"dataframe\">\n",
       "  <thead>\n",
       "    <tr style=\"text-align: right;\">\n",
       "      <th></th>\n",
       "      <th>serial</th>\n",
       "      <th>user</th>\n",
       "      <th>lang</th>\n",
       "      <th>version</th>\n",
       "      <th>timezone</th>\n",
       "      <th>country</th>\n",
       "      <th>created</th>\n",
       "      <th>last_seen</th>\n",
       "      <th>mode</th>\n",
       "      <th>usage</th>\n",
       "      <th>breed</th>\n",
       "      <th>birthday</th>\n",
       "      <th>trk_type</th>\n",
       "      <th>network_operator</th>\n",
       "      <th>last_location_date</th>\n",
       "      <th>last_uplink_date</th>\n",
       "      <th>state</th>\n",
       "    </tr>\n",
       "  </thead>\n",
       "  <tbody>\n",
       "    <tr>\n",
       "      <th>count</th>\n",
       "      <td>500</td>\n",
       "      <td>500</td>\n",
       "      <td>496</td>\n",
       "      <td>500</td>\n",
       "      <td>496</td>\n",
       "      <td>496</td>\n",
       "      <td>500</td>\n",
       "      <td>500</td>\n",
       "      <td>500</td>\n",
       "      <td>489</td>\n",
       "      <td>415</td>\n",
       "      <td>500</td>\n",
       "      <td>16</td>\n",
       "      <td>500</td>\n",
       "      <td>500</td>\n",
       "      <td>500</td>\n",
       "      <td>500</td>\n",
       "    </tr>\n",
       "    <tr>\n",
       "      <th>unique</th>\n",
       "      <td>500</td>\n",
       "      <td>474</td>\n",
       "      <td>2</td>\n",
       "      <td>10</td>\n",
       "      <td>17</td>\n",
       "      <td>6</td>\n",
       "      <td>500</td>\n",
       "      <td>500</td>\n",
       "      <td>15</td>\n",
       "      <td>6</td>\n",
       "      <td>253</td>\n",
       "      <td>331</td>\n",
       "      <td>12</td>\n",
       "      <td>1</td>\n",
       "      <td>499</td>\n",
       "      <td>488</td>\n",
       "      <td>1</td>\n",
       "    </tr>\n",
       "    <tr>\n",
       "      <th>top</th>\n",
       "      <td>260b8187605dfd6a88186aad1dc973e9</td>\n",
       "      <td>166b7fa1b6b65947670797a061a90ca5</td>\n",
       "      <td>fr</td>\n",
       "      <td>tracker_LWT2v1-4.28.0-LoRa+Sigfox</td>\n",
       "      <td>Europe/Paris</td>\n",
       "      <td>FR</td>\n",
       "      <td>2018-10-06 14:14:30.408766+00:00</td>\n",
       "      <td>2020-04-08 15:43:31.089524+00:00</td>\n",
       "      <td>22</td>\n",
       "      <td>cat</td>\n",
       "      <td>unknown_mix</td>\n",
       "      <td>None</td>\n",
       "      <td>voiture</td>\n",
       "      <td>objenious</td>\n",
       "      <td>None</td>\n",
       "      <td>None</td>\n",
       "      <td>online</td>\n",
       "    </tr>\n",
       "    <tr>\n",
       "      <th>freq</th>\n",
       "      <td>1</td>\n",
       "      <td>3</td>\n",
       "      <td>486</td>\n",
       "      <td>298</td>\n",
       "      <td>467</td>\n",
       "      <td>483</td>\n",
       "      <td>1</td>\n",
       "      <td>1</td>\n",
       "      <td>180</td>\n",
       "      <td>255</td>\n",
       "      <td>45</td>\n",
       "      <td>83</td>\n",
       "      <td>3</td>\n",
       "      <td>500</td>\n",
       "      <td>2</td>\n",
       "      <td>13</td>\n",
       "      <td>500</td>\n",
       "    </tr>\n",
       "  </tbody>\n",
       "</table>\n",
       "</div>"
      ],
      "text/plain": [
       "                                  serial                              user  \\\n",
       "count                                500                               500   \n",
       "unique                               500                               474   \n",
       "top     260b8187605dfd6a88186aad1dc973e9  166b7fa1b6b65947670797a061a90ca5   \n",
       "freq                                   1                                 3   \n",
       "\n",
       "       lang                            version      timezone country  \\\n",
       "count   496                                500           496     496   \n",
       "unique    2                                 10            17       6   \n",
       "top      fr  tracker_LWT2v1-4.28.0-LoRa+Sigfox  Europe/Paris      FR   \n",
       "freq    486                                298           467     483   \n",
       "\n",
       "                                 created                         last_seen  \\\n",
       "count                                500                               500   \n",
       "unique                               500                               500   \n",
       "top     2018-10-06 14:14:30.408766+00:00  2020-04-08 15:43:31.089524+00:00   \n",
       "freq                                   1                                 1   \n",
       "\n",
       "       mode usage        breed birthday trk_type network_operator  \\\n",
       "count   500   489          415      500       16              500   \n",
       "unique   15     6          253      331       12                1   \n",
       "top      22   cat  unknown_mix     None  voiture        objenious   \n",
       "freq    180   255           45       83        3              500   \n",
       "\n",
       "       last_location_date last_uplink_date   state  \n",
       "count                 500              500     500  \n",
       "unique                499              488       1  \n",
       "top                  None             None  online  \n",
       "freq                    2               13     500  "
      ]
     },
     "execution_count": 59,
     "metadata": {},
     "output_type": "execute_result"
    }
   ],
   "source": [
    "# Describe data for objects type\n",
    "lwt2_dtf.describe(include=np.object)"
   ]
  },
  {
   "cell_type": "raw",
   "metadata": {
    "ExecuteTime": {
     "end_time": "2020-04-09T21:14:31.664430Z",
     "start_time": "2020-04-09T21:14:31.631121Z"
    }
   },
   "source": [
    "# Number of unique data per columns\n",
    "lwt2_dtf.nunique()"
   ]
  },
  {
   "cell_type": "code",
   "execution_count": 60,
   "metadata": {
    "ExecuteTime": {
     "end_time": "2020-04-10T09:42:04.533704Z",
     "start_time": "2020-04-10T09:42:04.522693Z"
    }
   },
   "outputs": [
    {
     "data": {
      "text/plain": [
       "count                                   500\n",
       "unique                                   10\n",
       "top       tracker_LWT2v1-4.28.0-LoRa+Sigfox\n",
       "freq                                    298\n",
       "Name: version, dtype: object"
      ]
     },
     "execution_count": 60,
     "metadata": {},
     "output_type": "execute_result"
    }
   ],
   "source": [
    "# Describe a specific data\n",
    "lwt2_dtf[\"version\"].describe()"
   ]
  },
  {
   "cell_type": "code",
   "execution_count": 61,
   "metadata": {
    "ExecuteTime": {
     "end_time": "2020-04-10T09:42:04.548133Z",
     "start_time": "2020-04-10T09:42:04.536289Z"
    }
   },
   "outputs": [
    {
     "data": {
      "text/plain": [
       "tracker_LWT2v1-4.28.0-LoRa+Sigfox    298\n",
       "tracker_LWT2v1-4.22.1-LoRa+Sigfox    119\n",
       "tracker_LWT2v1-4.11.1-LoRa+Sigfox     21\n",
       "tracker_LWT2v1-4.15.6-LoRa+Sigfox     19\n",
       "tracker_LWT2v1-4.6.1-LoRa+Sigfox      16\n",
       "tracker_LWT2v1-4.15.5-LoRa+Sigfox     11\n",
       "tracker_LWT2v1-3.11.0-LoRa+Sigfox     10\n",
       "tracker_LWT2v1-4.15.3-LoRa+Sigfox      3\n",
       "tracker_HAT-LWT2-0.3.0                 2\n",
       "tracker_LWT2v1-3.12.0-LoRa+Sigfox      1\n",
       "Name: version, dtype: int64"
      ]
     },
     "execution_count": 61,
     "metadata": {},
     "output_type": "execute_result"
    }
   ],
   "source": [
    "# Count the number of unique value for specific data\n",
    "lwt2_dtf[\"version\"].value_counts()"
   ]
  },
  {
   "cell_type": "code",
   "execution_count": 62,
   "metadata": {
    "ExecuteTime": {
     "end_time": "2020-04-10T09:42:04.656853Z",
     "start_time": "2020-04-10T09:42:04.551570Z"
    },
    "scrolled": false
   },
   "outputs": [
    {
     "name": "stdout",
     "output_type": "stream",
     "text": [
      "<class 'pandas.core.frame.DataFrame'>\n",
      "RangeIndex: 500 entries, 0 to 499\n",
      "Data columns (total 24 columns):\n",
      " #   Column              Non-Null Count  Dtype  \n",
      "---  ------              --------------  -----  \n",
      " 0   serial              500 non-null    object \n",
      " 1   user                500 non-null    object \n",
      " 2   lang                496 non-null    object \n",
      " 3   version             500 non-null    object \n",
      " 4   timezone            496 non-null    object \n",
      " 5   country             496 non-null    object \n",
      " 6   created             500 non-null    object \n",
      " 7   last_seen           500 non-null    object \n",
      " 8   mode                500 non-null    object \n",
      " 9   usage               489 non-null    object \n",
      " 10  notify_position     500 non-null    bool   \n",
      " 11  notify_long_walk    500 non-null    bool   \n",
      " 12  breed               415 non-null    object \n",
      " 13  birthday            500 non-null    object \n",
      " 14  weight              439 non-null    float64\n",
      " 15  trk_type            16 non-null     object \n",
      " 16  battery             500 non-null    int64  \n",
      " 17  temperature         500 non-null    float64\n",
      " 18  network_operator    500 non-null    object \n",
      " 19  last_loc_latitude   500 non-null    float64\n",
      " 20  last_loc_longitude  500 non-null    float64\n",
      " 21  last_location_date  500 non-null    object \n",
      " 22  last_uplink_date    500 non-null    object \n",
      " 23  state               500 non-null    object \n",
      "dtypes: bool(2), float64(4), int64(1), object(17)\n",
      "memory usage: 87.0+ KB\n"
     ]
    }
   ],
   "source": [
    "# Get the columns stats\n",
    "lwt2_dtf.info()"
   ]
  },
  {
   "cell_type": "markdown",
   "metadata": {
    "ExecuteTime": {
     "end_time": "2020-04-10T08:06:21.209217Z",
     "start_time": "2020-04-10T08:06:21.204348Z"
    }
   },
   "source": [
    "## LWT2 data"
   ]
  },
  {
   "cell_type": "code",
   "execution_count": 63,
   "metadata": {
    "ExecuteTime": {
     "end_time": "2020-04-10T09:42:04.681266Z",
     "start_time": "2020-04-10T09:42:04.665639Z"
    }
   },
   "outputs": [
    {
     "data": {
      "text/html": [
       "<div>\n",
       "<style scoped>\n",
       "    .dataframe tbody tr th:only-of-type {\n",
       "        vertical-align: middle;\n",
       "    }\n",
       "\n",
       "    .dataframe tbody tr th {\n",
       "        vertical-align: top;\n",
       "    }\n",
       "\n",
       "    .dataframe thead th {\n",
       "        text-align: right;\n",
       "    }\n",
       "</style>\n",
       "<table border=\"1\" class=\"dataframe\">\n",
       "  <thead>\n",
       "    <tr style=\"text-align: right;\">\n",
       "      <th></th>\n",
       "      <th>serial</th>\n",
       "      <th>date</th>\n",
       "      <th>latitude</th>\n",
       "      <th>longitude</th>\n",
       "      <th>accuracy</th>\n",
       "      <th>method</th>\n",
       "      <th>battery</th>\n",
       "    </tr>\n",
       "  </thead>\n",
       "  <tbody>\n",
       "    <tr>\n",
       "      <th>0</th>\n",
       "      <td>0871c953d28ec616a58f91c6a7a6c07b</td>\n",
       "      <td>2020-04-08 14:00:01.672</td>\n",
       "      <td>48.639817</td>\n",
       "      <td>2.730899</td>\n",
       "      <td>25</td>\n",
       "      <td>PositionMethodNVXBSSID</td>\n",
       "      <td>NaN</td>\n",
       "    </tr>\n",
       "    <tr>\n",
       "      <th>1</th>\n",
       "      <td>0871c953d28ec616a58f91c6a7a6c07b</td>\n",
       "      <td>2020-04-08 10:00:01.660</td>\n",
       "      <td>48.639817</td>\n",
       "      <td>2.730899</td>\n",
       "      <td>25</td>\n",
       "      <td>PositionMethodNVXBSSID</td>\n",
       "      <td>NaN</td>\n",
       "    </tr>\n",
       "    <tr>\n",
       "      <th>2</th>\n",
       "      <td>0871c953d28ec616a58f91c6a7a6c07b</td>\n",
       "      <td>2020-04-08 06:00:01.944</td>\n",
       "      <td>48.639817</td>\n",
       "      <td>2.730899</td>\n",
       "      <td>25</td>\n",
       "      <td>PositionMethodNVXBSSID</td>\n",
       "      <td>96.0</td>\n",
       "    </tr>\n",
       "    <tr>\n",
       "      <th>3</th>\n",
       "      <td>0871c953d28ec616a58f91c6a7a6c07b</td>\n",
       "      <td>2020-04-08 02:00:01.551</td>\n",
       "      <td>48.639817</td>\n",
       "      <td>2.730899</td>\n",
       "      <td>25</td>\n",
       "      <td>PositionMethodNVXBSSID</td>\n",
       "      <td>NaN</td>\n",
       "    </tr>\n",
       "    <tr>\n",
       "      <th>4</th>\n",
       "      <td>0871c953d28ec616a58f91c6a7a6c07b</td>\n",
       "      <td>2020-04-07 22:00:01.547</td>\n",
       "      <td>48.639817</td>\n",
       "      <td>2.730899</td>\n",
       "      <td>25</td>\n",
       "      <td>PositionMethodNVXBSSID</td>\n",
       "      <td>NaN</td>\n",
       "    </tr>\n",
       "  </tbody>\n",
       "</table>\n",
       "</div>"
      ],
      "text/plain": [
       "                             serial                    date   latitude  \\\n",
       "0  0871c953d28ec616a58f91c6a7a6c07b 2020-04-08 14:00:01.672  48.639817   \n",
       "1  0871c953d28ec616a58f91c6a7a6c07b 2020-04-08 10:00:01.660  48.639817   \n",
       "2  0871c953d28ec616a58f91c6a7a6c07b 2020-04-08 06:00:01.944  48.639817   \n",
       "3  0871c953d28ec616a58f91c6a7a6c07b 2020-04-08 02:00:01.551  48.639817   \n",
       "4  0871c953d28ec616a58f91c6a7a6c07b 2020-04-07 22:00:01.547  48.639817   \n",
       "\n",
       "   longitude  accuracy                  method  battery  \n",
       "0   2.730899        25  PositionMethodNVXBSSID      NaN  \n",
       "1   2.730899        25  PositionMethodNVXBSSID      NaN  \n",
       "2   2.730899        25  PositionMethodNVXBSSID     96.0  \n",
       "3   2.730899        25  PositionMethodNVXBSSID      NaN  \n",
       "4   2.730899        25  PositionMethodNVXBSSID      NaN  "
      ]
     },
     "execution_count": 63,
     "metadata": {},
     "output_type": "execute_result"
    }
   ],
   "source": [
    "# Display 5th first rows\n",
    "data_lwt2_dtf.head()"
   ]
  },
  {
   "cell_type": "code",
   "execution_count": 64,
   "metadata": {
    "ExecuteTime": {
     "end_time": "2020-04-10T09:42:04.971114Z",
     "start_time": "2020-04-10T09:42:04.685799Z"
    }
   },
   "outputs": [
    {
     "data": {
      "text/html": [
       "<div>\n",
       "<style scoped>\n",
       "    .dataframe tbody tr th:only-of-type {\n",
       "        vertical-align: middle;\n",
       "    }\n",
       "\n",
       "    .dataframe tbody tr th {\n",
       "        vertical-align: top;\n",
       "    }\n",
       "\n",
       "    .dataframe thead th {\n",
       "        text-align: right;\n",
       "    }\n",
       "</style>\n",
       "<table border=\"1\" class=\"dataframe\">\n",
       "  <thead>\n",
       "    <tr style=\"text-align: right;\">\n",
       "      <th></th>\n",
       "      <th>latitude</th>\n",
       "      <th>longitude</th>\n",
       "      <th>accuracy</th>\n",
       "      <th>battery</th>\n",
       "    </tr>\n",
       "  </thead>\n",
       "  <tbody>\n",
       "    <tr>\n",
       "      <th>count</th>\n",
       "      <td>2.018591e+06</td>\n",
       "      <td>2.018591e+06</td>\n",
       "      <td>2.018591e+06</td>\n",
       "      <td>243704.000000</td>\n",
       "    </tr>\n",
       "    <tr>\n",
       "      <th>mean</th>\n",
       "      <td>4.689965e+01</td>\n",
       "      <td>2.724387e+00</td>\n",
       "      <td>8.417128e+01</td>\n",
       "      <td>61.833478</td>\n",
       "    </tr>\n",
       "    <tr>\n",
       "      <th>std</th>\n",
       "      <td>2.293832e+00</td>\n",
       "      <td>2.624751e+00</td>\n",
       "      <td>8.953857e+02</td>\n",
       "      <td>25.923638</td>\n",
       "    </tr>\n",
       "    <tr>\n",
       "      <th>min</th>\n",
       "      <td>3.791587e+01</td>\n",
       "      <td>-8.966680e+00</td>\n",
       "      <td>1.000000e+00</td>\n",
       "      <td>0.000000</td>\n",
       "    </tr>\n",
       "    <tr>\n",
       "      <th>25%</th>\n",
       "      <td>4.483777e+01</td>\n",
       "      <td>1.377874e+00</td>\n",
       "      <td>2.500000e+01</td>\n",
       "      <td>42.000000</td>\n",
       "    </tr>\n",
       "    <tr>\n",
       "      <th>50%</th>\n",
       "      <td>4.764936e+01</td>\n",
       "      <td>2.425605e+00</td>\n",
       "      <td>3.600000e+01</td>\n",
       "      <td>62.000000</td>\n",
       "    </tr>\n",
       "    <tr>\n",
       "      <th>75%</th>\n",
       "      <td>4.884421e+01</td>\n",
       "      <td>4.792412e+00</td>\n",
       "      <td>5.000000e+01</td>\n",
       "      <td>86.000000</td>\n",
       "    </tr>\n",
       "    <tr>\n",
       "      <th>max</th>\n",
       "      <td>5.142140e+01</td>\n",
       "      <td>1.820933e+01</td>\n",
       "      <td>2.000000e+04</td>\n",
       "      <td>99.000000</td>\n",
       "    </tr>\n",
       "  </tbody>\n",
       "</table>\n",
       "</div>"
      ],
      "text/plain": [
       "           latitude     longitude      accuracy        battery\n",
       "count  2.018591e+06  2.018591e+06  2.018591e+06  243704.000000\n",
       "mean   4.689965e+01  2.724387e+00  8.417128e+01      61.833478\n",
       "std    2.293832e+00  2.624751e+00  8.953857e+02      25.923638\n",
       "min    3.791587e+01 -8.966680e+00  1.000000e+00       0.000000\n",
       "25%    4.483777e+01  1.377874e+00  2.500000e+01      42.000000\n",
       "50%    4.764936e+01  2.425605e+00  3.600000e+01      62.000000\n",
       "75%    4.884421e+01  4.792412e+00  5.000000e+01      86.000000\n",
       "max    5.142140e+01  1.820933e+01  2.000000e+04      99.000000"
      ]
     },
     "execution_count": 64,
     "metadata": {},
     "output_type": "execute_result"
    }
   ],
   "source": [
    "# Describe data with basic statistics\n",
    "data_lwt2_dtf.describe()"
   ]
  },
  {
   "cell_type": "code",
   "execution_count": 65,
   "metadata": {
    "ExecuteTime": {
     "end_time": "2020-04-10T09:42:05.595636Z",
     "start_time": "2020-04-10T09:42:04.977430Z"
    }
   },
   "outputs": [
    {
     "data": {
      "text/html": [
       "<div>\n",
       "<style scoped>\n",
       "    .dataframe tbody tr th:only-of-type {\n",
       "        vertical-align: middle;\n",
       "    }\n",
       "\n",
       "    .dataframe tbody tr th {\n",
       "        vertical-align: top;\n",
       "    }\n",
       "\n",
       "    .dataframe thead th {\n",
       "        text-align: right;\n",
       "    }\n",
       "</style>\n",
       "<table border=\"1\" class=\"dataframe\">\n",
       "  <thead>\n",
       "    <tr style=\"text-align: right;\">\n",
       "      <th></th>\n",
       "      <th>serial</th>\n",
       "      <th>method</th>\n",
       "    </tr>\n",
       "  </thead>\n",
       "  <tbody>\n",
       "    <tr>\n",
       "      <th>count</th>\n",
       "      <td>2018591</td>\n",
       "      <td>2018591</td>\n",
       "    </tr>\n",
       "    <tr>\n",
       "      <th>unique</th>\n",
       "      <td>488</td>\n",
       "      <td>7</td>\n",
       "    </tr>\n",
       "    <tr>\n",
       "      <th>top</th>\n",
       "      <td>2904696f101021f8e01ad43cdd09119e</td>\n",
       "      <td>PositionMethodNVXBSSID</td>\n",
       "    </tr>\n",
       "    <tr>\n",
       "      <th>freq</th>\n",
       "      <td>10000</td>\n",
       "      <td>1495919</td>\n",
       "    </tr>\n",
       "  </tbody>\n",
       "</table>\n",
       "</div>"
      ],
      "text/plain": [
       "                                  serial                  method\n",
       "count                            2018591                 2018591\n",
       "unique                               488                       7\n",
       "top     2904696f101021f8e01ad43cdd09119e  PositionMethodNVXBSSID\n",
       "freq                               10000                 1495919"
      ]
     },
     "execution_count": 65,
     "metadata": {},
     "output_type": "execute_result"
    }
   ],
   "source": [
    "# Describe data for objects type\n",
    "data_lwt2_dtf.describe(include=np.object)"
   ]
  },
  {
   "cell_type": "raw",
   "metadata": {
    "ExecuteTime": {
     "end_time": "2020-04-09T21:14:31.664430Z",
     "start_time": "2020-04-09T21:14:31.631121Z"
    }
   },
   "source": [
    "# Number of unique data per columns\n",
    "data_lwt2_dtf.nunique()"
   ]
  },
  {
   "cell_type": "code",
   "execution_count": 66,
   "metadata": {
    "ExecuteTime": {
     "end_time": "2020-04-10T09:42:05.931955Z",
     "start_time": "2020-04-10T09:42:05.612161Z"
    }
   },
   "outputs": [
    {
     "data": {
      "text/plain": [
       "count                    2018591\n",
       "unique                         7\n",
       "top       PositionMethodNVXBSSID\n",
       "freq                     1495919\n",
       "Name: method, dtype: object"
      ]
     },
     "execution_count": 66,
     "metadata": {},
     "output_type": "execute_result"
    }
   ],
   "source": [
    "# Describe a specific data\n",
    "data_lwt2_dtf[\"method\"].describe()"
   ]
  },
  {
   "cell_type": "code",
   "execution_count": 67,
   "metadata": {
    "ExecuteTime": {
     "end_time": "2020-04-10T09:42:06.174638Z",
     "start_time": "2020-04-10T09:42:05.936564Z"
    }
   },
   "outputs": [
    {
     "data": {
      "text/plain": [
       "PositionMethodNVXBSSID    1495919\n",
       "PositionMethodGPS          217483\n",
       "PositionMethodBSSID        203077\n",
       "PositionMethodBSSID2        33324\n",
       "PositionMethodServer        33309\n",
       "PositionMethodPhone         29873\n",
       "PositionMethodNetwork        5606\n",
       "Name: method, dtype: int64"
      ]
     },
     "execution_count": 67,
     "metadata": {},
     "output_type": "execute_result"
    }
   ],
   "source": [
    "# Count the number of unique value for specific data\n",
    "data_lwt2_dtf[\"method\"].value_counts()"
   ]
  },
  {
   "cell_type": "code",
   "execution_count": 68,
   "metadata": {
    "ExecuteTime": {
     "end_time": "2020-04-10T09:42:06.203520Z",
     "start_time": "2020-04-10T09:42:06.185759Z"
    },
    "scrolled": false
   },
   "outputs": [
    {
     "name": "stdout",
     "output_type": "stream",
     "text": [
      "<class 'pandas.core.frame.DataFrame'>\n",
      "RangeIndex: 2018591 entries, 0 to 2018590\n",
      "Data columns (total 7 columns):\n",
      " #   Column     Dtype         \n",
      "---  ------     -----         \n",
      " 0   serial     object        \n",
      " 1   date       datetime64[ns]\n",
      " 2   latitude   float64       \n",
      " 3   longitude  float64       \n",
      " 4   accuracy   int64         \n",
      " 5   method     object        \n",
      " 6   battery    float64       \n",
      "dtypes: datetime64[ns](1), float64(3), int64(1), object(2)\n",
      "memory usage: 107.8+ MB\n"
     ]
    }
   ],
   "source": [
    "# Get the columns stats\n",
    "data_lwt2_dtf.info()"
   ]
  },
  {
   "cell_type": "markdown",
   "metadata": {
    "ExecuteTime": {
     "end_time": "2020-04-10T08:25:27.292610Z",
     "start_time": "2020-04-10T08:25:27.288572Z"
    }
   },
   "source": [
    "# Plotting data"
   ]
  },
  {
   "cell_type": "code",
   "execution_count": 69,
   "metadata": {
    "ExecuteTime": {
     "end_time": "2020-04-10T09:42:06.222792Z",
     "start_time": "2020-04-10T09:42:06.208042Z"
    }
   },
   "outputs": [],
   "source": [
    "%matplotlib inline\n",
    "# Display plot in notebook"
   ]
  },
  {
   "cell_type": "code",
   "execution_count": 70,
   "metadata": {
    "ExecuteTime": {
     "end_time": "2020-04-10T09:42:06.236816Z",
     "start_time": "2020-04-10T09:42:06.230879Z"
    }
   },
   "outputs": [],
   "source": [
    "dtf = data_lwt1_dtf"
   ]
  },
  {
   "cell_type": "code",
   "execution_count": 71,
   "metadata": {
    "ExecuteTime": {
     "end_time": "2020-04-10T09:42:06.474542Z",
     "start_time": "2020-04-10T09:42:06.240250Z"
    }
   },
   "outputs": [
    {
     "data": {
      "text/html": [
       "<div>\n",
       "<style scoped>\n",
       "    .dataframe tbody tr th:only-of-type {\n",
       "        vertical-align: middle;\n",
       "    }\n",
       "\n",
       "    .dataframe tbody tr th {\n",
       "        vertical-align: top;\n",
       "    }\n",
       "\n",
       "    .dataframe thead th {\n",
       "        text-align: right;\n",
       "    }\n",
       "</style>\n",
       "<table border=\"1\" class=\"dataframe\">\n",
       "  <thead>\n",
       "    <tr style=\"text-align: right;\">\n",
       "      <th></th>\n",
       "      <th>latitude</th>\n",
       "      <th>longitude</th>\n",
       "      <th>accuracy</th>\n",
       "      <th>battery</th>\n",
       "    </tr>\n",
       "  </thead>\n",
       "  <tbody>\n",
       "    <tr>\n",
       "      <th>count</th>\n",
       "      <td>1.465405e+06</td>\n",
       "      <td>1.465405e+06</td>\n",
       "      <td>1.465405e+06</td>\n",
       "      <td>207362.000000</td>\n",
       "    </tr>\n",
       "    <tr>\n",
       "      <th>mean</th>\n",
       "      <td>4.743944e+01</td>\n",
       "      <td>2.688919e+00</td>\n",
       "      <td>8.081566e+01</td>\n",
       "      <td>63.864454</td>\n",
       "    </tr>\n",
       "    <tr>\n",
       "      <th>std</th>\n",
       "      <td>2.126504e+00</td>\n",
       "      <td>2.352223e+00</td>\n",
       "      <td>8.701135e+02</td>\n",
       "      <td>25.805406</td>\n",
       "    </tr>\n",
       "    <tr>\n",
       "      <th>min</th>\n",
       "      <td>-2.004650e+01</td>\n",
       "      <td>-1.219328e+02</td>\n",
       "      <td>1.000000e+00</td>\n",
       "      <td>0.000000</td>\n",
       "    </tr>\n",
       "    <tr>\n",
       "      <th>25%</th>\n",
       "      <td>4.575355e+01</td>\n",
       "      <td>1.948512e+00</td>\n",
       "      <td>2.500000e+01</td>\n",
       "      <td>46.000000</td>\n",
       "    </tr>\n",
       "    <tr>\n",
       "      <th>50%</th>\n",
       "      <td>4.867249e+01</td>\n",
       "      <td>2.340483e+00</td>\n",
       "      <td>3.600000e+01</td>\n",
       "      <td>66.000000</td>\n",
       "    </tr>\n",
       "    <tr>\n",
       "      <th>75%</th>\n",
       "      <td>4.888449e+01</td>\n",
       "      <td>4.368403e+00</td>\n",
       "      <td>5.000000e+01</td>\n",
       "      <td>85.000000</td>\n",
       "    </tr>\n",
       "    <tr>\n",
       "      <th>max</th>\n",
       "      <td>5.398626e+01</td>\n",
       "      <td>5.752917e+01</td>\n",
       "      <td>2.000000e+04</td>\n",
       "      <td>99.000000</td>\n",
       "    </tr>\n",
       "  </tbody>\n",
       "</table>\n",
       "</div>"
      ],
      "text/plain": [
       "           latitude     longitude      accuracy        battery\n",
       "count  1.465405e+06  1.465405e+06  1.465405e+06  207362.000000\n",
       "mean   4.743944e+01  2.688919e+00  8.081566e+01      63.864454\n",
       "std    2.126504e+00  2.352223e+00  8.701135e+02      25.805406\n",
       "min   -2.004650e+01 -1.219328e+02  1.000000e+00       0.000000\n",
       "25%    4.575355e+01  1.948512e+00  2.500000e+01      46.000000\n",
       "50%    4.867249e+01  2.340483e+00  3.600000e+01      66.000000\n",
       "75%    4.888449e+01  4.368403e+00  5.000000e+01      85.000000\n",
       "max    5.398626e+01  5.752917e+01  2.000000e+04      99.000000"
      ]
     },
     "execution_count": 71,
     "metadata": {},
     "output_type": "execute_result"
    }
   ],
   "source": [
    "dtf.describe()"
   ]
  },
  {
   "cell_type": "code",
   "execution_count": 72,
   "metadata": {
    "ExecuteTime": {
     "end_time": "2020-04-10T09:42:06.982302Z",
     "start_time": "2020-04-10T09:42:06.478963Z"
    }
   },
   "outputs": [
    {
     "data": {
      "text/plain": [
       "<matplotlib.axes._subplots.AxesSubplot at 0x14338bb10>"
      ]
     },
     "execution_count": 72,
     "metadata": {},
     "output_type": "execute_result"
    },
    {
     "data": {
      "image/png": "[encoded data removed]",
      "text/plain": [
       "<Figure size 720x576 with 1 Axes>"
      ]
     },
     "metadata": {
      "needs_background": "light"
     },
     "output_type": "display_data"
    }
   ],
   "source": [
    "# Display battery level for a random tracker\n",
    "random_serial = dtf.serial.sample().values[0]\n",
    "dtf[(dtf.serial == random_serial) & (dtf.battery.notnull())].plot.line(x='date', y='battery', grid=True, figsize=(10,8))"
   ]
  },
  {
   "cell_type": "code",
   "execution_count": 73,
   "metadata": {
    "ExecuteTime": {
     "end_time": "2020-04-10T09:42:07.387702Z",
     "start_time": "2020-04-10T09:42:06.998309Z"
    }
   },
   "outputs": [
    {
     "data": {
      "text/plain": [
       "<matplotlib.axes._subplots.AxesSubplot at 0x116eafcd0>"
      ]
     },
     "execution_count": 73,
     "metadata": {},
     "output_type": "execute_result"
    },
    {
     "data": {
      "image/png": "[encoded data removed]",
      "text/plain": [
       "<Figure size 720x576 with 1 Axes>"
      ]
     },
     "metadata": {},
     "output_type": "display_data"
    }
   ],
   "source": [
    "# Display method distribution in a pie plot\n",
    "dtf[\"method\"].value_counts().plot.pie(figsize=(10,8), autopct=\"%1.1f%%\")"
   ]
  },
  {
   "cell_type": "code",
   "execution_count": null,
   "metadata": {},
   "outputs": [],
   "source": []
  },
  {
   "cell_type": "code",
   "execution_count": 74,
   "metadata": {
    "ExecuteTime": {
     "end_time": "2020-04-10T09:42:07.616600Z",
     "start_time": "2020-04-10T09:42:07.390786Z"
    }
   },
   "outputs": [
    {
     "data": {
      "text/plain": [
       "count                    1465405\n",
       "unique                         8\n",
       "top       PositionMethodNVXBSSID\n",
       "freq                      833342\n",
       "Name: method, dtype: object"
      ]
     },
     "execution_count": 74,
     "metadata": {},
     "output_type": "execute_result"
    }
   ],
   "source": [
    "dtf[\"method\"].describe()"
   ]
  },
  {
   "cell_type": "code",
   "execution_count": 75,
   "metadata": {
    "ExecuteTime": {
     "end_time": "2020-04-10T09:42:07.771440Z",
     "start_time": "2020-04-10T09:42:07.621599Z"
    }
   },
   "outputs": [
    {
     "data": {
      "text/plain": [
       "PositionMethodNVXBSSID       833342\n",
       "PositionMethodBSSID          329595\n",
       "PositionMethodGPSUbiscale    199248\n",
       "PositionMethodServer          49848\n",
       "PositionMethodBSSID2          39125\n",
       "PositionMethodPhone           10156\n",
       "PositionMethodNetwork          4011\n",
       "PositionMethodGPS                80\n",
       "Name: method, dtype: int64"
      ]
     },
     "execution_count": 75,
     "metadata": {},
     "output_type": "execute_result"
    }
   ],
   "source": [
    "dtf[\"method\"].value_counts()"
   ]
  },
  {
   "cell_type": "raw",
   "metadata": {},
   "source": [
    "import sys\n",
    "!conda install --yes --prefix {sys.prefix} -c conda-forge contextily, descartes, geopandas, numpy, shapely\n",
    "# !{sys.executable} -m pip install contextily, descartes, geopandas, numpy, shapely"
   ]
  },
  {
   "cell_type": "code",
   "execution_count": 76,
   "metadata": {
    "ExecuteTime": {
     "end_time": "2020-04-10T09:42:07.785531Z",
     "start_time": "2020-04-10T09:42:07.773747Z"
    }
   },
   "outputs": [],
   "source": [
    "from geopandas import GeoDataFrame\n",
    "from shapely.geometry import Point\n",
    "\n",
    "import contextily as ctx\n",
    "import geopandas as gpd"
   ]
  },
  {
   "cell_type": "code",
   "execution_count": 77,
   "metadata": {
    "ExecuteTime": {
     "end_time": "2020-04-10T09:42:10.436599Z",
     "start_time": "2020-04-10T09:42:07.798182Z"
    }
   },
   "outputs": [
    {
     "data": {
      "image/png": "[encoded data removed]",
      "text/plain": [
       "<Figure size 720x720 with 1 Axes>"
      ]
     },
     "metadata": {
      "needs_background": "light"
     },
     "output_type": "display_data"
    }
   ],
   "source": [
    "df = gpd.read_file(\"regions-20180101-shp\")\n",
    "ax = df.plot(figsize=(10, 10), alpha=0.5, edgecolor='k')"
   ]
  },
  {
   "cell_type": "code",
   "execution_count": 78,
   "metadata": {
    "ExecuteTime": {
     "end_time": "2020-04-10T09:42:11.995686Z",
     "start_time": "2020-04-10T09:42:10.439221Z"
    }
   },
   "outputs": [],
   "source": [
    "df = df.to_crs(epsg=4326)"
   ]
  },
  {
   "cell_type": "code",
   "execution_count": 79,
   "metadata": {
    "ExecuteTime": {
     "end_time": "2020-04-10T09:42:15.257108Z",
     "start_time": "2020-04-10T09:42:11.999231Z"
    }
   },
   "outputs": [
    {
     "name": "stderr",
     "output_type": "stream",
     "text": [
      "/Users/hng/anaconda3/lib/python3.7/site-packages/contextily/tile.py:629: UserWarning: The inferred zoom level of 20 is not valid for the current tile provider (valid zooms: 0 - 18).\n",
      "  warnings.warn(msg)\n"
     ]
    },
    {
     "data": {
      "image/png": "[encoded data removed]",
      "text/plain": [
       "<Figure size 720x720 with 1 Axes>"
      ]
     },
     "metadata": {
      "needs_background": "light"
     },
     "output_type": "display_data"
    }
   ],
   "source": [
    "ax = df.plot(figsize=(10, 10), alpha=0.5, edgecolor='k')\n",
    "ctx.add_basemap(ax)"
   ]
  },
  {
   "cell_type": "code",
   "execution_count": 80,
   "metadata": {
    "ExecuteTime": {
     "end_time": "2020-04-10T09:42:32.143391Z",
     "start_time": "2020-04-10T09:42:15.259675Z"
    }
   },
   "outputs": [],
   "source": [
    "geometry = [Point(xy) for xy in zip(dtf['longitude'], dtf['latitude'])]\n",
    "gdf = GeoDataFrame(dtf, geometry=geometry) "
   ]
  },
  {
   "cell_type": "code",
   "execution_count": 81,
   "metadata": {
    "ExecuteTime": {
     "end_time": "2020-04-10T09:43:44.374026Z",
     "start_time": "2020-04-10T09:42:32.145779Z"
    },
    "scrolled": false
   },
   "outputs": [
    {
     "data": {
      "image/png": "[encoded data removed]",
      "text/plain": [
       "<Figure size 720x432 with 1 Axes>"
      ]
     },
     "metadata": {
      "needs_background": "light"
     },
     "output_type": "display_data"
    }
   ],
   "source": [
    "gdf.plot(ax=df.plot(figsize=(10, 6)), marker='o', color='red', markersize=15);"
   ]
  }
 ],
 "metadata": {
  "kernelspec": {
   "display_name": "Python 3",
   "language": "python",
   "name": "python3"
  },
  "language_info": {
   "codemirror_mode": {
    "name": "ipython",
    "version": 3
   },
   "file_extension": ".py",
   "mimetype": "text/x-python",
   "name": "python",
   "nbconvert_exporter": "python",
   "pygments_lexer": "ipython3",
   "version": "3.7.7"
  },
  "toc": {
   "base_numbering": 1,
   "nav_menu": {},
   "number_sections": true,
   "sideBar": true,
   "skip_h1_title": false,
   "title_cell": "Table of Contents",
   "title_sidebar": "Contents",
   "toc_cell": false,
   "toc_position": {},
   "toc_section_display": true,
   "toc_window_display": false
  }
 },
 "nbformat": 4,
 "nbformat_minor": 4
}
